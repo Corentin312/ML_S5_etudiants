{
  "cells": [
    {
      "cell_type": "markdown",
      "metadata": {
        "id": "MSgiKnAs1BbN"
      },
      "source": [
        "# Practical session n°7 : Learning to Rank\n",
        "\n",
        "Notions:\n",
        "- learning to order things\n",
        "- ranking function (or ranker)\n",
        "- curriculum learning\n",
        "- rank correlation(s)\n",
        "- hinge loss and ranknet loss\n",
        "\n",
        "\n",
        "\n",
        "\n",
        "Duration: 1 h 30"
      ]
    },
    {
      "cell_type": "markdown",
      "metadata": {
        "id": "P1waEt7NJgSx"
      },
      "source": [
        "Several problems fall under the label \"[learning-to-rank](https://link.springer.com/content/pdf/10.1007/978-3-642-15880-3_20.pdf).\" One example is sorting a given list of labels (e.g. URL of websites) by relevance to an input query. This problem is referred to as *label ranking*.\\\n",
        " In another scenario, input objects (e.g. images) should be sorted wrt a given criterion (e.g. 'foggy' or 'snowy'). Terms like *object ranking* and *learning to order things* are often used to describe this situation. In both cases, the learning is based on sorted samples, such as pairs of ordered images.\n",
        "\n",
        "In this practical session, we illustrate the latter scenario using very simple synthetic images. All images consist of a mixture of a disc and a variable number of rectangles of different shapes. The goal is to sort the images based on the pixel intensity on the disc. To achieve this, we work in a standard context where we have pairs of ordered images. Using these pairs, we will train a neural network to construct a real-valued \"ranking function\" (*ranker*) whose outputs enable the sorting of images."
      ]
    },
    {
      "cell_type": "markdown",
      "metadata": {
        "id": "Qtq1hUDdoSDC"
      },
      "source": [
        "**Exercise 1:** Problem Construction\n",
        "\n",
        "The following cells enable you to:\n",
        "- generate a dataset on colab (train, val and test),\n",
        "- define a dataset that provides pairs of images and a comparison based on the criterion of disc intensity (\"0\" if the disc is more intense in the first image, \"1\" otherwise),\n",
        "- visualize an initial batch."
      ]
    },
    {
      "cell_type": "code",
      "source": [
        "import os\n",
        "from os.path import join\n",
        "ls = lambda rep: sorted(os.listdir(rep))\n",
        "\n",
        "import torch\n",
        "import torch.nn as nn\n",
        "import torch.optim as optim\n",
        "from torch.optim import lr_scheduler\n",
        "import numpy as np\n",
        "import torchvision\n",
        "from torch.utils.data import Dataset, DataLoader, sampler\n",
        "\n",
        "import matplotlib.pyplot as plt\n",
        "import copy\n",
        "from random import randint, choice"
      ],
      "metadata": {
        "id": "Nv8w-nP22XBa"
      },
      "execution_count": 1,
      "outputs": []
    },
    {
      "cell_type": "code",
      "source": [
        "! git clone https://github.com/nanopiero/ML_S5_etudiants\n",
        "! cp ML_S5_etudiants/practicals/P7/utils_P7.py .\n",
        "from utils_P7 import *\n",
        "root = r\"/content\""
      ],
      "metadata": {
        "id": "DygJhqc1hRY7",
        "outputId": "830c7c99-bd37-470c-eb9d-8e53f0ad504f",
        "colab": {
          "base_uri": "https://localhost:8080/"
        }
      },
      "execution_count": 2,
      "outputs": [
        {
          "output_type": "stream",
          "name": "stdout",
          "text": [
            "Cloning into 'ML_S5_etudiants'...\n",
            "remote: Enumerating objects: 193, done.\u001b[K\n",
            "remote: Counting objects: 100% (72/72), done.\u001b[K\n",
            "remote: Compressing objects: 100% (55/55), done.\u001b[K\n",
            "remote: Total 193 (delta 37), reused 33 (delta 17), pack-reused 121 (from 1)\u001b[K\n",
            "Receiving objects: 100% (193/193), 3.45 MiB | 33.65 MiB/s, done.\n",
            "Resolving deltas: 100% (70/70), done.\n"
          ]
        }
      ]
    },
    {
      "cell_type": "code",
      "source": [
        "device = torch.device(\"cuda\" if torch.cuda.is_available() else \"cpu\")"
      ],
      "metadata": {
        "id": "5ubPaW6jE3n-"
      },
      "execution_count": 3,
      "outputs": []
    },
    {
      "cell_type": "code",
      "execution_count": 4,
      "metadata": {
        "id": "DM4QiDC95gak"
      },
      "outputs": [],
      "source": [
        "dir_trainval = join(root, r\"train\")\n",
        "generate_dataset(dir_trainval, size_dataset=10000)\n",
        "\n",
        "dir_test = join(root, r\"test\")\n",
        "generate_dataset(dir_test, size_dataset=2000)"
      ]
    },
    {
      "cell_type": "code",
      "source": [
        "# Retrieving target values\n",
        "\n",
        "# Image paths:\n",
        "dir_images_trainval = os.path.join(dir_trainval, 'images')\n",
        "dir_images_test = os.path.join(dir_test, 'images')\n",
        "\n",
        "# Target values for train+val\n",
        "label_dict_path_trainval = os.path.join(dir_trainval, 'labels_synthese.pickle')\n",
        "with open(label_dict_path_trainval, 'rb') as handle:\n",
        "    label_dict_trainval = pickle.load(handle)\n",
        "\n",
        "# Target values for test\n",
        "label_dict_path_test = os.path.join(dir_test, 'labels_synthese.pickle')\n",
        "with open(label_dict_path_test, 'rb') as handle:\n",
        "    label_dict_test = pickle.load(handle)\n",
        "\n",
        "# Splitting train / val (8000/2000)\n",
        "all_image_names = np.array(ls(dir_images_trainval))\n",
        "\n",
        "train_indices = list(range(0, 8000))\n",
        "names_train = all_image_names[train_indices]\n",
        "val_indices = list(range(8000, 10000))\n",
        "names_val = all_image_names[val_indices]\n",
        "names_test = ls(dir_images_test)\n",
        "\n",
        "# Note: for random splitting, use sklearn.model_selection.train_test_split as tts"
      ],
      "metadata": {
        "id": "v04NNmhgBbY6"
      },
      "execution_count": 5,
      "outputs": []
    },
    {
      "cell_type": "code",
      "execution_count": null,
      "metadata": {
        "id": "0pC2CQnsDREe"
      },
      "outputs": [],
      "source": [
        "# if error:\n",
        "# from shutil import rmtree\n",
        "# rmtree(dir_test)"
      ]
    },
    {
      "cell_type": "code",
      "execution_count": 6,
      "metadata": {
        "id": "fv4HHS6Y67lE"
      },
      "outputs": [],
      "source": [
        "# Data Augmentation\n",
        "class SuperFlip(object):\n",
        "    \"\"\"\n",
        "    The 8 transformations\n",
        "    generated by R(Pi/2) and vertical symmetry/axis\n",
        "    \"\"\"\n",
        "    def __init__(self, num_transforms):\n",
        "        self.num_transforms = num_transforms\n",
        "\n",
        "    def __call__(self, image):\n",
        "        # Note: Ideally, torch.randint should be used here...\n",
        "        n = randint(0, self.num_transforms)\n",
        "        if n == 1:\n",
        "            image = image.flip([1])\n",
        "        elif n == 2:\n",
        "            image = image.flip([2])\n",
        "        elif n == 3:\n",
        "            image = image.transpose(1, 2)\n",
        "        elif n == 4:\n",
        "            image = image.transpose(1, 2).flip([1])\n",
        "        elif n == 5:\n",
        "            image = image.transpose(1, 2).flip([2])\n",
        "        elif n == 6:\n",
        "            image = image.flip([1, 2])\n",
        "        elif n == 7:\n",
        "            image = image.transpose(1, 2).flip([1, 2])\n",
        "        return image\n",
        "\n",
        "super_flip_transform = SuperFlip(8)\n",
        "\n",
        "transforms = {\n",
        "    'train': super_flip_transform,\n",
        "    'val': None,\n",
        "    'test': None\n",
        "}"
      ]
    },
    {
      "cell_type": "code",
      "execution_count": 7,
      "metadata": {
        "id": "E7Qf6WY36-Fo"
      },
      "outputs": [],
      "source": [
        "# Dataset Construction:\n",
        "def oracle(name0, name1, data_dict):\n",
        "    # Load the data:\n",
        "    y0 = data_dict[name0]['y']\n",
        "    y1 = data_dict[name1]['y']\n",
        "\n",
        "    # Determine the comparison:\n",
        "    compa = 0 if y1 < y0 else 1\n",
        "    return compa\n",
        "\n",
        "class DatasetOrderedPairs(torch.utils.data.Dataset):\n",
        "    def __init__(self, images_dir, data_dict, transform=None):\n",
        "        self.images_dir = images_dir\n",
        "        self.transform = transform\n",
        "        self.imgs = ls(images_dir)\n",
        "        self.data_dict = data_dict\n",
        "\n",
        "    def __getitem__(self, idx):\n",
        "        name0 = self.imgs[idx]\n",
        "        name1 = choice(self.imgs)\n",
        "        label = oracle(name0, name1, self.data_dict)\n",
        "\n",
        "        # Get the images\n",
        "        path0 = os.path.join(self.images_dir, name0)\n",
        "        img0 = torch.load(path0, weights_only=True)\n",
        "        path1 = os.path.join(self.images_dir, name1)\n",
        "        img1 = torch.load(path1, weights_only=True)\n",
        "\n",
        "        if self.transform is not None:\n",
        "            img0 = self.transform(img0)\n",
        "            img1 = self.transform(img1)\n",
        "\n",
        "        return img0, img1, torch.from_numpy(np.array(label)).long(), name0, name1   # -1 if no class 0\n",
        "\n",
        "    def __len__(self):\n",
        "        return len(self.imgs)"
      ]
    },
    {
      "cell_type": "code",
      "execution_count": 8,
      "metadata": {
        "id": "GI1DH45t7AcN"
      },
      "outputs": [],
      "source": [
        "# Dataset instantiation:\n",
        "dataset_train = DatasetOrderedPairs(dir_images_trainval, label_dict_trainval, transforms['train'])\n",
        "dataset_val = DatasetOrderedPairs(dir_images_trainval, label_dict_trainval, transforms['val'])\n",
        "dataset_test = DatasetOrderedPairs(dir_images_test, label_dict_test, transforms['test'])\n",
        "\n",
        "datasets = {'train': dataset_train, 'val': dataset_val, 'test': dataset_test}"
      ]
    },
    {
      "cell_type": "code",
      "execution_count": 9,
      "metadata": {
        "id": "FiM4F3gaAzw3"
      },
      "outputs": [],
      "source": [
        "# Samplers and loaders\n",
        "train_sampler = torch.utils.data.sampler.SubsetRandomSampler(train_indices)\n",
        "val_sampler = torch.utils.data.sampler.SubsetRandomSampler(val_indices)\n",
        "\n",
        "samplers = {'train': train_sampler, 'val': val_sampler}\n",
        "\n",
        "batch_size = 64\n",
        "\n",
        "dataloaders = {x: torch.utils.data.DataLoader(datasets[x], batch_size=batch_size, shuffle=False, sampler=samplers[x], num_workers=2) for x in ['train', 'val']}\n",
        "dataloaders['test'] = torch.utils.data.DataLoader(datasets['test'], batch_size=batch_size, shuffle=False, num_workers=0)\n",
        "dataset_sizes = {'train': len(names_train), 'val': len(names_val), 'test': len(names_test)}\n",
        "\n",
        "dataloaders['viz'] = torch.utils.data.DataLoader(datasets['train'], batch_size=6, shuffle=False, num_workers=0)"
      ]
    },
    {
      "cell_type": "code",
      "execution_count": 10,
      "metadata": {
        "id": "A0Qib3bU7EUO",
        "outputId": "1ecfc0d6-afef-4951-f055-07a9ea41f81a",
        "colab": {
          "base_uri": "https://localhost:8080/",
          "height": 564
        }
      },
      "outputs": [
        {
          "output_type": "display_data",
          "data": {
            "text/plain": [
              "<Figure size 1500x300 with 2 Axes>"
            ],
            "image/png": "[encoded data removed]"
          },
          "metadata": {}
        },
        {
          "output_type": "display_data",
          "data": {
            "text/plain": [
              "<Figure size 1500x300 with 2 Axes>"
            ],
            "image/png": "[encoded data removed]"
          },
          "metadata": {}
        },
        {
          "output_type": "stream",
          "name": "stdout",
          "text": [
            "tensor([0, 0, 0, 1, 1, 1])\n"
          ]
        }
      ],
      "source": [
        "# Visualisation\n",
        "\n",
        "img1, img2, labels, _, _ = next(iter(dataloaders['viz']))\n",
        "\n",
        "fig0 = plt.figure(0, figsize=(15, 3))\n",
        "voir_batch2D(img1, nx = 8, fig = fig0, k=0, min_scale=0,max_scale=10)\n",
        "fig1 = plt.figure(1, figsize=(15, 3))\n",
        "voir_batch2D(img2, nx = 8, fig = fig1, k=0, min_scale=0,max_scale=10)\n",
        "\n",
        "print(labels)\n"
      ]
    },
    {
      "cell_type": "markdown",
      "source": [
        "**Q0** How is done the separation between training and validation done here?"
      ],
      "metadata": {
        "id": "iycy2im3U8wg"
      }
    },
    {
      "cell_type": "markdown",
      "source": [
        "**Q1** What is the role of *super_flip*? And that of the *oracle* function?"
      ],
      "metadata": {
        "id": "3QR_3fcbEBJg"
      }
    },
    {
      "cell_type": "markdown",
      "source": [
        "**Q2** Are all pairs of images equally easy to order?"
      ],
      "metadata": {
        "id": "Ln7gZSUGEnmU"
      }
    },
    {
      "cell_type": "markdown",
      "source": [
        "**Exercise 2:** Siamese Learning\n",
        "\n",
        "During training, batches of image pairs are compared. Basic siamese network training involves passing each image in the pair independently through the model and penalizing the model when the outputs are arranged in the wrong order.\n",
        "\n",
        "The simplest way to do this is to consider the positive part of the difference between the outputs. This is what the following cost function does:"
      ],
      "metadata": {
        "id": "hFv2OfMMF1mF"
      }
    },
    {
      "cell_type": "code",
      "execution_count": 11,
      "metadata": {
        "id": "eYZtrZy07G-r"
      },
      "outputs": [],
      "source": [
        "# Hinge Loss function\n",
        "\n",
        "def label_to_sgn(label):  # 0 -> 1  and 1 -> -1\n",
        "    sgn = torch.where(label == 0, 1, -1)\n",
        "    return sgn\n",
        "\n",
        "class HingeLoss(torch.nn.Module):\n",
        "    def __init__(self, margin=0.1):\n",
        "        super(HingeLoss, self).__init__()\n",
        "        self.margin = margin\n",
        "\n",
        "    def forward(self, output0, output1, label):\n",
        "        sgn = label_to_sgn(label)\n",
        "        diff = sgn * (output1 - output0)\n",
        "\n",
        "        loss = torch.relu(diff + self.margin).mean()\n",
        "        return loss"
      ]
    },
    {
      "cell_type": "markdown",
      "source": [
        "**Q1** Write the training loop and run it for 20 epochs. Keep track of the successive accuracies."
      ],
      "metadata": {
        "id": "YmVCCdfxUN86"
      }
    },
    {
      "cell_type": "code",
      "execution_count": 18,
      "metadata": {
        "id": "04USzeWb7I8m",
        "outputId": "20b1d056-b061-45ee-ee42-2a6e5eab1833",
        "colab": {
          "base_uri": "https://localhost:8080/"
        }
      },
      "outputs": [
        {
          "output_type": "stream",
          "name": "stdout",
          "text": [
            "512\n"
          ]
        }
      ],
      "source": [
        "num_epochs = 20\n",
        "channels = 1\n",
        "\n",
        "# With a ResNet18\n",
        "from torchvision.models import resnet18\n",
        "model = resnet18(num_classes=1)\n",
        "print(model.inplanes)\n",
        "model.conv1 =  nn.Conv2d(channels, 64, kernel_size=7, stride=2, padding=3, bias=False)\n",
        "nn.init.kaiming_normal_( model.conv1.weight, mode=\"fan_out\", nonlinearity=\"relu\")\n",
        "\n",
        "\n",
        "device = torch.device(\"cuda:0\")\n",
        "model = model.to(device)\n",
        "\n",
        "\n",
        "# Loss function and optimizer\n",
        "criterion = HingeLoss(margin=0.1)\n",
        "optimizer = optim.Adam(model.parameters(), lr=0.001)"
      ]
    },
    {
      "cell_type": "code",
      "execution_count": 19,
      "metadata": {
        "id": "i1wHjBb77Ly5",
        "outputId": "30ed0bb3-8acd-4503-8f52-8b3cd7942aaf",
        "colab": {
          "base_uri": "https://localhost:8080/",
          "height": 423,
          "referenced_widgets": [
            "dae9fc3d34dc41ccb0940337b755efa0",
            "3916de54306b4a079c023f033e595a8f",
            "6ae84972004f4f24a95a5fa3e1684a1e",
            "8218aff2d5c04afd917150d758c1f0e7",
            "afb33110b36a4b058a195bd0cf084d3e",
            "3ee54f8ad9f4439ba63e847c05d1f155",
            "d02f4badd885414d81ecacbe8bd55a93",
            "882e8a696f8a4645899c1751da8eec94",
            "7265d54031684d4aab405e00b1925c0b",
            "0af690a92d3447b089afb80edd88964d",
            "e775013d734e466aa2e4517b789be1a9"
          ]
        }
      },
      "outputs": [
        {
          "output_type": "stream",
          "name": "stdout",
          "text": [
            "Epoch 1/20\n",
            "----------\n"
          ]
        },
        {
          "output_type": "display_data",
          "data": {
            "text/plain": [
              "Train Epoch 0:   0%|          | 0/125 [00:00<?, ?it/s]"
            ],
            "application/vnd.jupyter.widget-view+json": {
              "version_major": 2,
              "version_minor": 0,
              "model_id": "dae9fc3d34dc41ccb0940337b755efa0"
            }
          },
          "metadata": {}
        },
        {
          "output_type": "error",
          "ename": "KeyboardInterrupt",
          "evalue": "",
          "traceback": [
            "\u001b[0;31m---------------------------------------------------------------------------\u001b[0m",
            "\u001b[0;31mKeyboardInterrupt\u001b[0m                         Traceback (most recent call last)",
            "\u001b[0;32m<ipython-input-19-0259448b32ad>\u001b[0m in \u001b[0;36m<cell line: 9>\u001b[0;34m()\u001b[0m\n\u001b[1;32m     34\u001b[0m             \u001b[0;32mwith\u001b[0m \u001b[0mtorch\u001b[0m\u001b[0;34m.\u001b[0m\u001b[0mset_grad_enabled\u001b[0m\u001b[0;34m(\u001b[0m\u001b[0mphase\u001b[0m \u001b[0;34m==\u001b[0m \u001b[0;34m'train'\u001b[0m\u001b[0;34m)\u001b[0m\u001b[0;34m:\u001b[0m\u001b[0;34m\u001b[0m\u001b[0;34m\u001b[0m\u001b[0m\n\u001b[1;32m     35\u001b[0m \u001b[0;34m\u001b[0m\u001b[0m\n\u001b[0;32m---> 36\u001b[0;31m                 \u001b[0moutput1\u001b[0m \u001b[0;34m=\u001b[0m \u001b[0mmodel\u001b[0m\u001b[0;34m(\u001b[0m\u001b[0mimg1\u001b[0m\u001b[0;34m)\u001b[0m\u001b[0;34m\u001b[0m\u001b[0;34m\u001b[0m\u001b[0m\n\u001b[0m\u001b[1;32m     37\u001b[0m                 \u001b[0moutput2\u001b[0m \u001b[0;34m=\u001b[0m \u001b[0mmodel\u001b[0m\u001b[0;34m(\u001b[0m\u001b[0mimg2\u001b[0m\u001b[0;34m)\u001b[0m\u001b[0;34m\u001b[0m\u001b[0;34m\u001b[0m\u001b[0m\n\u001b[1;32m     38\u001b[0m                 \u001b[0mpreds\u001b[0m \u001b[0;34m=\u001b[0m \u001b[0mtorch\u001b[0m\u001b[0;34m.\u001b[0m\u001b[0mwhere\u001b[0m\u001b[0;34m(\u001b[0m\u001b[0moutput1\u001b[0m \u001b[0;34m>\u001b[0m \u001b[0moutput2\u001b[0m\u001b[0;34m,\u001b[0m \u001b[0;36m1\u001b[0m\u001b[0;34m,\u001b[0m \u001b[0;36m0\u001b[0m\u001b[0;34m)\u001b[0m\u001b[0;34m\u001b[0m\u001b[0;34m\u001b[0m\u001b[0m\n",
            "\u001b[0;32m/usr/local/lib/python3.10/dist-packages/torch/nn/modules/module.py\u001b[0m in \u001b[0;36m_wrapped_call_impl\u001b[0;34m(self, *args, **kwargs)\u001b[0m\n\u001b[1;32m   1734\u001b[0m             \u001b[0;32mreturn\u001b[0m \u001b[0mself\u001b[0m\u001b[0;34m.\u001b[0m\u001b[0m_compiled_call_impl\u001b[0m\u001b[0;34m(\u001b[0m\u001b[0;34m*\u001b[0m\u001b[0margs\u001b[0m\u001b[0;34m,\u001b[0m \u001b[0;34m**\u001b[0m\u001b[0mkwargs\u001b[0m\u001b[0;34m)\u001b[0m  \u001b[0;31m# type: ignore[misc]\u001b[0m\u001b[0;34m\u001b[0m\u001b[0;34m\u001b[0m\u001b[0m\n\u001b[1;32m   1735\u001b[0m         \u001b[0;32melse\u001b[0m\u001b[0;34m:\u001b[0m\u001b[0;34m\u001b[0m\u001b[0;34m\u001b[0m\u001b[0m\n\u001b[0;32m-> 1736\u001b[0;31m             \u001b[0;32mreturn\u001b[0m \u001b[0mself\u001b[0m\u001b[0;34m.\u001b[0m\u001b[0m_call_impl\u001b[0m\u001b[0;34m(\u001b[0m\u001b[0;34m*\u001b[0m\u001b[0margs\u001b[0m\u001b[0;34m,\u001b[0m \u001b[0;34m**\u001b[0m\u001b[0mkwargs\u001b[0m\u001b[0;34m)\u001b[0m\u001b[0;34m\u001b[0m\u001b[0;34m\u001b[0m\u001b[0m\n\u001b[0m\u001b[1;32m   1737\u001b[0m \u001b[0;34m\u001b[0m\u001b[0m\n\u001b[1;32m   1738\u001b[0m     \u001b[0;31m# torchrec tests the code consistency with the following code\u001b[0m\u001b[0;34m\u001b[0m\u001b[0;34m\u001b[0m\u001b[0m\n",
            "\u001b[0;32m/usr/local/lib/python3.10/dist-packages/torch/nn/modules/module.py\u001b[0m in \u001b[0;36m_call_impl\u001b[0;34m(self, *args, **kwargs)\u001b[0m\n\u001b[1;32m   1745\u001b[0m                 \u001b[0;32mor\u001b[0m \u001b[0m_global_backward_pre_hooks\u001b[0m \u001b[0;32mor\u001b[0m \u001b[0m_global_backward_hooks\u001b[0m\u001b[0;34m\u001b[0m\u001b[0;34m\u001b[0m\u001b[0m\n\u001b[1;32m   1746\u001b[0m                 or _global_forward_hooks or _global_forward_pre_hooks):\n\u001b[0;32m-> 1747\u001b[0;31m             \u001b[0;32mreturn\u001b[0m \u001b[0mforward_call\u001b[0m\u001b[0;34m(\u001b[0m\u001b[0;34m*\u001b[0m\u001b[0margs\u001b[0m\u001b[0;34m,\u001b[0m \u001b[0;34m**\u001b[0m\u001b[0mkwargs\u001b[0m\u001b[0;34m)\u001b[0m\u001b[0;34m\u001b[0m\u001b[0;34m\u001b[0m\u001b[0m\n\u001b[0m\u001b[1;32m   1748\u001b[0m \u001b[0;34m\u001b[0m\u001b[0m\n\u001b[1;32m   1749\u001b[0m         \u001b[0mresult\u001b[0m \u001b[0;34m=\u001b[0m \u001b[0;32mNone\u001b[0m\u001b[0;34m\u001b[0m\u001b[0;34m\u001b[0m\u001b[0m\n",
            "\u001b[0;32m/usr/local/lib/python3.10/dist-packages/torchvision/models/resnet.py\u001b[0m in \u001b[0;36mforward\u001b[0;34m(self, x)\u001b[0m\n\u001b[1;32m    283\u001b[0m \u001b[0;34m\u001b[0m\u001b[0m\n\u001b[1;32m    284\u001b[0m     \u001b[0;32mdef\u001b[0m \u001b[0mforward\u001b[0m\u001b[0;34m(\u001b[0m\u001b[0mself\u001b[0m\u001b[0;34m,\u001b[0m \u001b[0mx\u001b[0m\u001b[0;34m:\u001b[0m \u001b[0mTensor\u001b[0m\u001b[0;34m)\u001b[0m \u001b[0;34m->\u001b[0m \u001b[0mTensor\u001b[0m\u001b[0;34m:\u001b[0m\u001b[0;34m\u001b[0m\u001b[0;34m\u001b[0m\u001b[0m\n\u001b[0;32m--> 285\u001b[0;31m         \u001b[0;32mreturn\u001b[0m \u001b[0mself\u001b[0m\u001b[0;34m.\u001b[0m\u001b[0m_forward_impl\u001b[0m\u001b[0;34m(\u001b[0m\u001b[0mx\u001b[0m\u001b[0;34m)\u001b[0m\u001b[0;34m\u001b[0m\u001b[0;34m\u001b[0m\u001b[0m\n\u001b[0m\u001b[1;32m    286\u001b[0m \u001b[0;34m\u001b[0m\u001b[0m\n\u001b[1;32m    287\u001b[0m \u001b[0;34m\u001b[0m\u001b[0m\n",
            "\u001b[0;32m/usr/local/lib/python3.10/dist-packages/torchvision/models/resnet.py\u001b[0m in \u001b[0;36m_forward_impl\u001b[0;34m(self, x)\u001b[0m\n\u001b[1;32m    273\u001b[0m         \u001b[0mx\u001b[0m \u001b[0;34m=\u001b[0m \u001b[0mself\u001b[0m\u001b[0;34m.\u001b[0m\u001b[0mlayer1\u001b[0m\u001b[0;34m(\u001b[0m\u001b[0mx\u001b[0m\u001b[0;34m)\u001b[0m\u001b[0;34m\u001b[0m\u001b[0;34m\u001b[0m\u001b[0m\n\u001b[1;32m    274\u001b[0m         \u001b[0mx\u001b[0m \u001b[0;34m=\u001b[0m \u001b[0mself\u001b[0m\u001b[0;34m.\u001b[0m\u001b[0mlayer2\u001b[0m\u001b[0;34m(\u001b[0m\u001b[0mx\u001b[0m\u001b[0;34m)\u001b[0m\u001b[0;34m\u001b[0m\u001b[0;34m\u001b[0m\u001b[0m\n\u001b[0;32m--> 275\u001b[0;31m         \u001b[0mx\u001b[0m \u001b[0;34m=\u001b[0m \u001b[0mself\u001b[0m\u001b[0;34m.\u001b[0m\u001b[0mlayer3\u001b[0m\u001b[0;34m(\u001b[0m\u001b[0mx\u001b[0m\u001b[0;34m)\u001b[0m\u001b[0;34m\u001b[0m\u001b[0;34m\u001b[0m\u001b[0m\n\u001b[0m\u001b[1;32m    276\u001b[0m         \u001b[0mx\u001b[0m \u001b[0;34m=\u001b[0m \u001b[0mself\u001b[0m\u001b[0;34m.\u001b[0m\u001b[0mlayer4\u001b[0m\u001b[0;34m(\u001b[0m\u001b[0mx\u001b[0m\u001b[0;34m)\u001b[0m\u001b[0;34m\u001b[0m\u001b[0;34m\u001b[0m\u001b[0m\n\u001b[1;32m    277\u001b[0m \u001b[0;34m\u001b[0m\u001b[0m\n",
            "\u001b[0;32m/usr/local/lib/python3.10/dist-packages/torch/nn/modules/module.py\u001b[0m in \u001b[0;36m_wrapped_call_impl\u001b[0;34m(self, *args, **kwargs)\u001b[0m\n\u001b[1;32m   1734\u001b[0m             \u001b[0;32mreturn\u001b[0m \u001b[0mself\u001b[0m\u001b[0;34m.\u001b[0m\u001b[0m_compiled_call_impl\u001b[0m\u001b[0;34m(\u001b[0m\u001b[0;34m*\u001b[0m\u001b[0margs\u001b[0m\u001b[0;34m,\u001b[0m \u001b[0;34m**\u001b[0m\u001b[0mkwargs\u001b[0m\u001b[0;34m)\u001b[0m  \u001b[0;31m# type: ignore[misc]\u001b[0m\u001b[0;34m\u001b[0m\u001b[0;34m\u001b[0m\u001b[0m\n\u001b[1;32m   1735\u001b[0m         \u001b[0;32melse\u001b[0m\u001b[0;34m:\u001b[0m\u001b[0;34m\u001b[0m\u001b[0;34m\u001b[0m\u001b[0m\n\u001b[0;32m-> 1736\u001b[0;31m             \u001b[0;32mreturn\u001b[0m \u001b[0mself\u001b[0m\u001b[0;34m.\u001b[0m\u001b[0m_call_impl\u001b[0m\u001b[0;34m(\u001b[0m\u001b[0;34m*\u001b[0m\u001b[0margs\u001b[0m\u001b[0;34m,\u001b[0m \u001b[0;34m**\u001b[0m\u001b[0mkwargs\u001b[0m\u001b[0;34m)\u001b[0m\u001b[0;34m\u001b[0m\u001b[0;34m\u001b[0m\u001b[0m\n\u001b[0m\u001b[1;32m   1737\u001b[0m \u001b[0;34m\u001b[0m\u001b[0m\n\u001b[1;32m   1738\u001b[0m     \u001b[0;31m# torchrec tests the code consistency with the following code\u001b[0m\u001b[0;34m\u001b[0m\u001b[0;34m\u001b[0m\u001b[0m\n",
            "\u001b[0;32m/usr/local/lib/python3.10/dist-packages/torch/nn/modules/module.py\u001b[0m in \u001b[0;36m_call_impl\u001b[0;34m(self, *args, **kwargs)\u001b[0m\n\u001b[1;32m   1745\u001b[0m                 \u001b[0;32mor\u001b[0m \u001b[0m_global_backward_pre_hooks\u001b[0m \u001b[0;32mor\u001b[0m \u001b[0m_global_backward_hooks\u001b[0m\u001b[0;34m\u001b[0m\u001b[0;34m\u001b[0m\u001b[0m\n\u001b[1;32m   1746\u001b[0m                 or _global_forward_hooks or _global_forward_pre_hooks):\n\u001b[0;32m-> 1747\u001b[0;31m             \u001b[0;32mreturn\u001b[0m \u001b[0mforward_call\u001b[0m\u001b[0;34m(\u001b[0m\u001b[0;34m*\u001b[0m\u001b[0margs\u001b[0m\u001b[0;34m,\u001b[0m \u001b[0;34m**\u001b[0m\u001b[0mkwargs\u001b[0m\u001b[0;34m)\u001b[0m\u001b[0;34m\u001b[0m\u001b[0;34m\u001b[0m\u001b[0m\n\u001b[0m\u001b[1;32m   1748\u001b[0m \u001b[0;34m\u001b[0m\u001b[0m\n\u001b[1;32m   1749\u001b[0m         \u001b[0mresult\u001b[0m \u001b[0;34m=\u001b[0m \u001b[0;32mNone\u001b[0m\u001b[0;34m\u001b[0m\u001b[0;34m\u001b[0m\u001b[0m\n",
            "\u001b[0;32m/usr/local/lib/python3.10/dist-packages/torch/nn/modules/container.py\u001b[0m in \u001b[0;36mforward\u001b[0;34m(self, input)\u001b[0m\n\u001b[1;32m    248\u001b[0m     \u001b[0;32mdef\u001b[0m \u001b[0mforward\u001b[0m\u001b[0;34m(\u001b[0m\u001b[0mself\u001b[0m\u001b[0;34m,\u001b[0m \u001b[0minput\u001b[0m\u001b[0;34m)\u001b[0m\u001b[0;34m:\u001b[0m\u001b[0;34m\u001b[0m\u001b[0;34m\u001b[0m\u001b[0m\n\u001b[1;32m    249\u001b[0m         \u001b[0;32mfor\u001b[0m \u001b[0mmodule\u001b[0m \u001b[0;32min\u001b[0m \u001b[0mself\u001b[0m\u001b[0;34m:\u001b[0m\u001b[0;34m\u001b[0m\u001b[0;34m\u001b[0m\u001b[0m\n\u001b[0;32m--> 250\u001b[0;31m             \u001b[0minput\u001b[0m \u001b[0;34m=\u001b[0m \u001b[0mmodule\u001b[0m\u001b[0;34m(\u001b[0m\u001b[0minput\u001b[0m\u001b[0;34m)\u001b[0m\u001b[0;34m\u001b[0m\u001b[0;34m\u001b[0m\u001b[0m\n\u001b[0m\u001b[1;32m    251\u001b[0m         \u001b[0;32mreturn\u001b[0m \u001b[0minput\u001b[0m\u001b[0;34m\u001b[0m\u001b[0;34m\u001b[0m\u001b[0m\n\u001b[1;32m    252\u001b[0m \u001b[0;34m\u001b[0m\u001b[0m\n",
            "\u001b[0;32m/usr/local/lib/python3.10/dist-packages/torch/nn/modules/module.py\u001b[0m in \u001b[0;36m_wrapped_call_impl\u001b[0;34m(self, *args, **kwargs)\u001b[0m\n\u001b[1;32m   1734\u001b[0m             \u001b[0;32mreturn\u001b[0m \u001b[0mself\u001b[0m\u001b[0;34m.\u001b[0m\u001b[0m_compiled_call_impl\u001b[0m\u001b[0;34m(\u001b[0m\u001b[0;34m*\u001b[0m\u001b[0margs\u001b[0m\u001b[0;34m,\u001b[0m \u001b[0;34m**\u001b[0m\u001b[0mkwargs\u001b[0m\u001b[0;34m)\u001b[0m  \u001b[0;31m# type: ignore[misc]\u001b[0m\u001b[0;34m\u001b[0m\u001b[0;34m\u001b[0m\u001b[0m\n\u001b[1;32m   1735\u001b[0m         \u001b[0;32melse\u001b[0m\u001b[0;34m:\u001b[0m\u001b[0;34m\u001b[0m\u001b[0;34m\u001b[0m\u001b[0m\n\u001b[0;32m-> 1736\u001b[0;31m             \u001b[0;32mreturn\u001b[0m \u001b[0mself\u001b[0m\u001b[0;34m.\u001b[0m\u001b[0m_call_impl\u001b[0m\u001b[0;34m(\u001b[0m\u001b[0;34m*\u001b[0m\u001b[0margs\u001b[0m\u001b[0;34m,\u001b[0m \u001b[0;34m**\u001b[0m\u001b[0mkwargs\u001b[0m\u001b[0;34m)\u001b[0m\u001b[0;34m\u001b[0m\u001b[0;34m\u001b[0m\u001b[0m\n\u001b[0m\u001b[1;32m   1737\u001b[0m \u001b[0;34m\u001b[0m\u001b[0m\n\u001b[1;32m   1738\u001b[0m     \u001b[0;31m# torchrec tests the code consistency with the following code\u001b[0m\u001b[0;34m\u001b[0m\u001b[0;34m\u001b[0m\u001b[0m\n",
            "\u001b[0;32m/usr/local/lib/python3.10/dist-packages/torch/nn/modules/module.py\u001b[0m in \u001b[0;36m_call_impl\u001b[0;34m(self, *args, **kwargs)\u001b[0m\n\u001b[1;32m   1745\u001b[0m                 \u001b[0;32mor\u001b[0m \u001b[0m_global_backward_pre_hooks\u001b[0m \u001b[0;32mor\u001b[0m \u001b[0m_global_backward_hooks\u001b[0m\u001b[0;34m\u001b[0m\u001b[0;34m\u001b[0m\u001b[0m\n\u001b[1;32m   1746\u001b[0m                 or _global_forward_hooks or _global_forward_pre_hooks):\n\u001b[0;32m-> 1747\u001b[0;31m             \u001b[0;32mreturn\u001b[0m \u001b[0mforward_call\u001b[0m\u001b[0;34m(\u001b[0m\u001b[0;34m*\u001b[0m\u001b[0margs\u001b[0m\u001b[0;34m,\u001b[0m \u001b[0;34m**\u001b[0m\u001b[0mkwargs\u001b[0m\u001b[0;34m)\u001b[0m\u001b[0;34m\u001b[0m\u001b[0;34m\u001b[0m\u001b[0m\n\u001b[0m\u001b[1;32m   1748\u001b[0m \u001b[0;34m\u001b[0m\u001b[0m\n\u001b[1;32m   1749\u001b[0m         \u001b[0mresult\u001b[0m \u001b[0;34m=\u001b[0m \u001b[0;32mNone\u001b[0m\u001b[0;34m\u001b[0m\u001b[0;34m\u001b[0m\u001b[0m\n",
            "\u001b[0;32m/usr/local/lib/python3.10/dist-packages/torchvision/models/resnet.py\u001b[0m in \u001b[0;36mforward\u001b[0;34m(self, x)\u001b[0m\n\u001b[1;32m     91\u001b[0m \u001b[0;34m\u001b[0m\u001b[0m\n\u001b[1;32m     92\u001b[0m         \u001b[0mout\u001b[0m \u001b[0;34m=\u001b[0m \u001b[0mself\u001b[0m\u001b[0;34m.\u001b[0m\u001b[0mconv1\u001b[0m\u001b[0;34m(\u001b[0m\u001b[0mx\u001b[0m\u001b[0;34m)\u001b[0m\u001b[0;34m\u001b[0m\u001b[0;34m\u001b[0m\u001b[0m\n\u001b[0;32m---> 93\u001b[0;31m         \u001b[0mout\u001b[0m \u001b[0;34m=\u001b[0m \u001b[0mself\u001b[0m\u001b[0;34m.\u001b[0m\u001b[0mbn1\u001b[0m\u001b[0;34m(\u001b[0m\u001b[0mout\u001b[0m\u001b[0;34m)\u001b[0m\u001b[0;34m\u001b[0m\u001b[0;34m\u001b[0m\u001b[0m\n\u001b[0m\u001b[1;32m     94\u001b[0m         \u001b[0mout\u001b[0m \u001b[0;34m=\u001b[0m \u001b[0mself\u001b[0m\u001b[0;34m.\u001b[0m\u001b[0mrelu\u001b[0m\u001b[0;34m(\u001b[0m\u001b[0mout\u001b[0m\u001b[0;34m)\u001b[0m\u001b[0;34m\u001b[0m\u001b[0;34m\u001b[0m\u001b[0m\n\u001b[1;32m     95\u001b[0m \u001b[0;34m\u001b[0m\u001b[0m\n",
            "\u001b[0;32m/usr/local/lib/python3.10/dist-packages/torch/nn/modules/module.py\u001b[0m in \u001b[0;36m_wrapped_call_impl\u001b[0;34m(self, *args, **kwargs)\u001b[0m\n\u001b[1;32m   1734\u001b[0m             \u001b[0;32mreturn\u001b[0m \u001b[0mself\u001b[0m\u001b[0;34m.\u001b[0m\u001b[0m_compiled_call_impl\u001b[0m\u001b[0;34m(\u001b[0m\u001b[0;34m*\u001b[0m\u001b[0margs\u001b[0m\u001b[0;34m,\u001b[0m \u001b[0;34m**\u001b[0m\u001b[0mkwargs\u001b[0m\u001b[0;34m)\u001b[0m  \u001b[0;31m# type: ignore[misc]\u001b[0m\u001b[0;34m\u001b[0m\u001b[0;34m\u001b[0m\u001b[0m\n\u001b[1;32m   1735\u001b[0m         \u001b[0;32melse\u001b[0m\u001b[0;34m:\u001b[0m\u001b[0;34m\u001b[0m\u001b[0;34m\u001b[0m\u001b[0m\n\u001b[0;32m-> 1736\u001b[0;31m             \u001b[0;32mreturn\u001b[0m \u001b[0mself\u001b[0m\u001b[0;34m.\u001b[0m\u001b[0m_call_impl\u001b[0m\u001b[0;34m(\u001b[0m\u001b[0;34m*\u001b[0m\u001b[0margs\u001b[0m\u001b[0;34m,\u001b[0m \u001b[0;34m**\u001b[0m\u001b[0mkwargs\u001b[0m\u001b[0;34m)\u001b[0m\u001b[0;34m\u001b[0m\u001b[0;34m\u001b[0m\u001b[0m\n\u001b[0m\u001b[1;32m   1737\u001b[0m \u001b[0;34m\u001b[0m\u001b[0m\n\u001b[1;32m   1738\u001b[0m     \u001b[0;31m# torchrec tests the code consistency with the following code\u001b[0m\u001b[0;34m\u001b[0m\u001b[0;34m\u001b[0m\u001b[0m\n",
            "\u001b[0;32m/usr/local/lib/python3.10/dist-packages/torch/nn/modules/module.py\u001b[0m in \u001b[0;36m_call_impl\u001b[0;34m(self, *args, **kwargs)\u001b[0m\n\u001b[1;32m   1745\u001b[0m                 \u001b[0;32mor\u001b[0m \u001b[0m_global_backward_pre_hooks\u001b[0m \u001b[0;32mor\u001b[0m \u001b[0m_global_backward_hooks\u001b[0m\u001b[0;34m\u001b[0m\u001b[0;34m\u001b[0m\u001b[0m\n\u001b[1;32m   1746\u001b[0m                 or _global_forward_hooks or _global_forward_pre_hooks):\n\u001b[0;32m-> 1747\u001b[0;31m             \u001b[0;32mreturn\u001b[0m \u001b[0mforward_call\u001b[0m\u001b[0;34m(\u001b[0m\u001b[0;34m*\u001b[0m\u001b[0margs\u001b[0m\u001b[0;34m,\u001b[0m \u001b[0;34m**\u001b[0m\u001b[0mkwargs\u001b[0m\u001b[0;34m)\u001b[0m\u001b[0;34m\u001b[0m\u001b[0;34m\u001b[0m\u001b[0m\n\u001b[0m\u001b[1;32m   1748\u001b[0m \u001b[0;34m\u001b[0m\u001b[0m\n\u001b[1;32m   1749\u001b[0m         \u001b[0mresult\u001b[0m \u001b[0;34m=\u001b[0m \u001b[0;32mNone\u001b[0m\u001b[0;34m\u001b[0m\u001b[0;34m\u001b[0m\u001b[0m\n",
            "\u001b[0;32m/usr/local/lib/python3.10/dist-packages/torch/nn/modules/batchnorm.py\u001b[0m in \u001b[0;36mforward\u001b[0;34m(self, input)\u001b[0m\n\u001b[1;32m    191\u001b[0m         \u001b[0mused\u001b[0m \u001b[0;32mfor\u001b[0m \u001b[0mnormalization\u001b[0m \u001b[0;34m(\u001b[0m\u001b[0mi\u001b[0m\u001b[0;34m.\u001b[0m\u001b[0me\u001b[0m\u001b[0;34m.\u001b[0m \u001b[0;32min\u001b[0m \u001b[0meval\u001b[0m \u001b[0mmode\u001b[0m \u001b[0mwhen\u001b[0m \u001b[0mbuffers\u001b[0m \u001b[0mare\u001b[0m \u001b[0;32mnot\u001b[0m \u001b[0;32mNone\u001b[0m\u001b[0;34m)\u001b[0m\u001b[0;34m.\u001b[0m\u001b[0;34m\u001b[0m\u001b[0;34m\u001b[0m\u001b[0m\n\u001b[1;32m    192\u001b[0m         \"\"\"\n\u001b[0;32m--> 193\u001b[0;31m         return F.batch_norm(\n\u001b[0m\u001b[1;32m    194\u001b[0m             \u001b[0minput\u001b[0m\u001b[0;34m,\u001b[0m\u001b[0;34m\u001b[0m\u001b[0;34m\u001b[0m\u001b[0m\n\u001b[1;32m    195\u001b[0m             \u001b[0;31m# If buffers are not to be tracked, ensure that they won't be updated\u001b[0m\u001b[0;34m\u001b[0m\u001b[0;34m\u001b[0m\u001b[0m\n",
            "\u001b[0;32m/usr/local/lib/python3.10/dist-packages/torch/nn/functional.py\u001b[0m in \u001b[0;36mbatch_norm\u001b[0;34m(input, running_mean, running_var, weight, bias, training, momentum, eps)\u001b[0m\n\u001b[1;32m   2810\u001b[0m         \u001b[0m_verify_batch_size\u001b[0m\u001b[0;34m(\u001b[0m\u001b[0minput\u001b[0m\u001b[0;34m.\u001b[0m\u001b[0msize\u001b[0m\u001b[0;34m(\u001b[0m\u001b[0;34m)\u001b[0m\u001b[0;34m)\u001b[0m\u001b[0;34m\u001b[0m\u001b[0;34m\u001b[0m\u001b[0m\n\u001b[1;32m   2811\u001b[0m \u001b[0;34m\u001b[0m\u001b[0m\n\u001b[0;32m-> 2812\u001b[0;31m     return torch.batch_norm(\n\u001b[0m\u001b[1;32m   2813\u001b[0m         \u001b[0minput\u001b[0m\u001b[0;34m,\u001b[0m\u001b[0;34m\u001b[0m\u001b[0;34m\u001b[0m\u001b[0m\n\u001b[1;32m   2814\u001b[0m         \u001b[0mweight\u001b[0m\u001b[0;34m,\u001b[0m\u001b[0;34m\u001b[0m\u001b[0;34m\u001b[0m\u001b[0m\n",
            "\u001b[0;31mKeyboardInterrupt\u001b[0m: "
          ]
        }
      ],
      "source": [
        "from tqdm import tqdm, notebook\n",
        "\n",
        "\n",
        "train_accs = []\n",
        "val_accs = []\n",
        "\n",
        "phases = ['train', 'val']\n",
        "\n",
        "for epoch in range(num_epochs):\n",
        "    print(f'Epoch {epoch+1}/{num_epochs}')\n",
        "    print('-' * 10)\n",
        "\n",
        "    # Each epoch has a training and validation phase\n",
        "    for phase in phases:\n",
        "        if phase == 'train':\n",
        "            model.train()  # Set model to training mode\n",
        "        else:\n",
        "            model.eval()   # Set model to evaluate mode\n",
        "\n",
        "        running_loss = 0.0\n",
        "        running_corrects = 0\n",
        "        data_loader = notebook.tqdm(dataloaders[phase], desc=f'{phase.capitalize()} Epoch {epoch}', leave= phase == 'train')\n",
        "        # Iterate over data.\n",
        "        for img1, img2, labels, _, _ in data_loader:\n",
        "            img1 = img1.to(device)\n",
        "            img2 = img2.to(device)\n",
        "            labels = labels.to(device).detach()\n",
        "\n",
        "            # zero the parameter gradients\n",
        "            optimizer.zero_grad()\n",
        "\n",
        "            # forward\n",
        "            # track history if only in train\n",
        "            with torch.set_grad_enabled(phase == 'train'):\n",
        "\n",
        "                output1 = model(img1)\n",
        "                output2 = model(img2)\n",
        "                preds = torch.where(output1 > output2, 1, 0)\n",
        "                loss = criterion(output1, output2, labels.to(torch.float32).unsqueeze(dim=1))\n",
        "\n",
        "\n",
        "                # backward + optimize only if in training phase\n",
        "                if phase == 'train':\n",
        "                    loss.backward()\n",
        "                    optimizer.step()\n",
        "\n",
        "            # statistics\n",
        "            running_loss += loss.item() * img1.size(0)\n",
        "            running_corrects += torch.sum(preds == labels.data).double().item()\n",
        "\n",
        "            data_loader.set_postfix(loss=f'{loss.item():.4f}', refresh=False)\n",
        "\n",
        "        epoch_loss = running_loss / dataset_sizes[phase]\n",
        "        epoch_acc = running_corrects / dataset_sizes[phase]\n",
        "\n",
        "        print(f'{phase} Loss: {epoch_loss:.4f} Acc: {epoch_acc:.4f}')\n",
        "\n",
        "        if phase == 'train':\n",
        "            train_accs.append(epoch_acc)\n",
        "\n",
        "        if phase == 'val':\n",
        "            val_accs.append(epoch_acc)\n"
      ]
    },
    {
      "cell_type": "markdown",
      "source": [
        "**Q3** Check the learning curve."
      ],
      "metadata": {
        "id": "HU951Grd1tWR"
      }
    },
    {
      "cell_type": "markdown",
      "source": [
        "**Q4** Interprete the following scatterplot:"
      ],
      "metadata": {
        "id": "MPhXKjr7VW0a"
      }
    },
    {
      "cell_type": "code",
      "execution_count": 15,
      "metadata": {
        "id": "jSL2b6Ro7P_l",
        "outputId": "dfe06b19-0c6b-40cd-f738-7201d33530f0",
        "colab": {
          "base_uri": "https://localhost:8080/",
          "height": 521
        }
      },
      "outputs": [
        {
          "output_type": "stream",
          "name": "stderr",
          "text": [
            "<ipython-input-15-ab3c4830db92>:13: FutureWarning: You are using `torch.load` with `weights_only=False` (the current default value), which uses the default pickle module implicitly. It is possible to construct malicious pickle data which will execute arbitrary code during unpickling (See https://github.com/pytorch/pytorch/blob/main/SECURITY.md#untrusted-models for more details). In a future release, the default value for `weights_only` will be flipped to `True`. This limits the functions that could be executed during unpickling. Arbitrary objects will no longer be allowed to be loaded via this mode unless they are explicitly allowlisted by the user via `torch.serialization.add_safe_globals`. We recommend you start setting `weights_only=True` for any use case where you don't have full control of the loaded file. Please open an issue on GitHub for any issues related to this experimental feature.\n",
            "  image = torch.load(path)\n"
          ]
        },
        {
          "output_type": "execute_result",
          "data": {
            "text/plain": [
              "Text(0, 0.5, '$\\\\hat{y}$')"
            ]
          },
          "metadata": {},
          "execution_count": 15
        },
        {
          "output_type": "display_data",
          "data": {
            "text/plain": [
              "<Figure size 640x480 with 1 Axes>"
            ],
            "image/png": "[encoded data removed]"
          },
          "metadata": {}
        }
      ],
      "source": [
        "# true (mean) pixel intensity on the disk:\n",
        "ys = []\n",
        "# outputs of the network:\n",
        "yhats = []\n",
        "\n",
        "# browse the test set:\n",
        "for name in names_test:\n",
        "    # get true mean intensity on the disk\n",
        "    y = label_dict_test[name]['y']\n",
        "    ys.append(y)\n",
        "\n",
        "    path = join(dir_images_test, name)\n",
        "    image = torch.load(path)\n",
        "    image = image.cuda().unsqueeze(dim=0)\n",
        "\n",
        "    # get model output\n",
        "    yhat = model.eval()(image)\n",
        "    yhat = yhat.item()\n",
        "    yhats.append(yhat)\n",
        "\n",
        "# make np array\n",
        "ys = np.array(ys)\n",
        "yhats = np.array(yhats)\n",
        "\n",
        "# scatterplot\n",
        "plt.figure(num=10)\n",
        "plt.scatter(ys, yhats, marker='+')\n",
        "plt.xlabel('y')\n",
        "plt.ylabel('$\\hat{y}$')\n"
      ]
    },
    {
      "cell_type": "markdown",
      "source": [
        "**Q5** Calculate the Spearman and Kendall rank correlations. Which of the two is related to the accuracy measure?\n"
      ],
      "metadata": {
        "id": "RIiUvbAi1WYq"
      }
    },
    {
      "cell_type": "markdown",
      "metadata": {
        "id": "mZpLh5fFMzmq"
      },
      "source": [
        "**Q6** How would you improve performance ?"
      ]
    },
    {
      "cell_type": "markdown",
      "source": [
        "**Exercice 3** Curriculum Learning"
      ],
      "metadata": {
        "id": "mokDJcGBncXF"
      }
    },
    {
      "cell_type": "markdown",
      "source": [
        "One idea is to make the problem harder after an initial training phase. The following code allows you to retrieve a ResNet18 trained for 50 epochs, the optimizer, and the associated learning curve:"
      ],
      "metadata": {
        "id": "ZouHyg51niH8"
      }
    },
    {
      "cell_type": "code",
      "source": [
        "! pip install huggingface_hub\n",
        "from huggingface_hub import hf_hub_download\n",
        "model_hf_name = \"resnet18_50ep.checkpoint\"\n",
        "PATH_checkpoint = hf_hub_download(repo_id=\"nanopiero/models_ML_S5_P7\", filename=model_hf_name)"
      ],
      "metadata": {
        "id": "f9gMzRyBD-Ln"
      },
      "execution_count": null,
      "outputs": []
    },
    {
      "cell_type": "markdown",
      "source": [
        "**Q1** Continue training for an additional 20 epochs without changing the dataloader. Remember to store accuracies related to the validation set and outputs related to the test set."
      ],
      "metadata": {
        "id": "9cbFjkshyhB4"
      }
    },
    {
      "cell_type": "markdown",
      "source": [
        "**Q2** We will now continue training on pairs that are harder to order. For this purpose, we have the 'Dataset_finer_pairs' dataset below. Train for 20 epochs using this dataset."
      ],
      "metadata": {
        "id": "GzxxFnHNF8_X"
      }
    },
    {
      "cell_type": "code",
      "source": [
        "def make_dic_ray(imgs, dic, ray):\n",
        "\n",
        "  ys = np.array([dic[img]['y'] for img in imgs])\n",
        "  imgs = np.array(imgs)\n",
        "  dic_ray = {}\n",
        "  for i,img in enumerate(imgs):\n",
        "    y = ys[i]\n",
        "    # on limite la paire à des disques proches en intensité\n",
        "    dic_ray[img] = list(imgs[np.abs(ys - y) < ray])\n",
        "\n",
        "  return dic_ray\n",
        "\n",
        "class Dataset_finer_pairs(torch.utils.data.Dataset):\n",
        "    def __init__(self, images_dir,  dic, transfo = None, ray=0.5):\n",
        "        self.images_dir = images_dir\n",
        "        self.transfo = transfo\n",
        "        self.imgs = sorted(ls(images_dir))\n",
        "        self.dic = dic\n",
        "        self.dic_ray = make_dic_ray(self.imgs, dic, ray)\n",
        "\n",
        "    def __getitem__(self,idx):\n",
        "\n",
        "        name0 = self.imgs[idx]\n",
        "        name1 = choice(self.dic_ray[name0])\n",
        "        label = oracle(name0, name1, self.dic)\n",
        "\n",
        "\n",
        "        #get the images\n",
        "        path0 = os.path.join(self.images_dir, name0)\n",
        "        img0 =  torch.load(path0, weights_only=True)\n",
        "        path1 = os.path.join(self.images_dir, name1)\n",
        "        img1 = torch.load(path1, weights_only=True)\n",
        "\n",
        "\n",
        "        if self.transfo is not None:\n",
        "            img0 = self.transfo(img0)\n",
        "            img1 = self.transfo(img1)\n",
        "\n",
        "        return img0, img1,  torch.from_numpy(np.array(label)).long(), name0, name1\n",
        "\n",
        "    def __len__(self):\n",
        "        return len(self.imgs)"
      ],
      "metadata": {
        "id": "lGG_CL2GF8JY"
      },
      "execution_count": null,
      "outputs": []
    },
    {
      "cell_type": "markdown",
      "source": [
        "**Q3** Compare the learning curves (training and validation accuracies) and the results on the test set. Discuss."
      ],
      "metadata": {
        "id": "HcWzYRyzM1wb"
      }
    },
    {
      "cell_type": "markdown",
      "source": [
        "**Exercise 4** RankNet Loss"
      ],
      "metadata": {
        "id": "5Dafc8NUV7Gn"
      }
    },
    {
      "cell_type": "markdown",
      "source": [
        "A milder version of the Hinge Loss has been widely used, particularly in search engine learning, known as the RankNet Loss.\n",
        "\n",
        "This cost function is derived from a parametric probabilistic model, the [Bradley-Terry model](https://en.wikipedia.org/wiki/Bradley%E2%80%93Terry_model).\n",
        "\n",
        "In a general version, it is assumed that the outcome of a comparison (or match) between two objects \"0\" and \"1\" (or two teams) is random and depends on real values associated with the objects (the \"team levels\") as follows:\n",
        "\\begin{align}\n",
        "P_0 = \\dfrac{f(y_0)}{f(y_0) + f(y_1)}\n",
        "\\tag{1}\n",
        "\\end{align}\n",
        "Where $P_0$ is the probability of choosing object \"0\" (or the first team winning), and $f$ is a strictly increasing function with positive values."
      ],
      "metadata": {
        "id": "vrXFNbAtWqva"
      }
    },
    {
      "cell_type": "markdown",
      "source": [
        "**Q1** In the case where $f(y) = e^{\\sigma y}$, what do the choice probabilities depend on? Write the log-likelihood of the event \"object $x$ is chosen.\""
      ],
      "metadata": {
        "id": "HnGSr-f0ZYUe"
      }
    },
    {
      "cell_type": "markdown",
      "source": [
        "Dans le cas où $f(y) = e^{\\sigma y}$, les probabilités de choix dépendent uniquement de la différence $y_1 - y_0$. Lorsque des matchs sont joués, la valeur la plus vraisemblable de $y$ est interprétée comme le \"niveau\" d'un joueur (voir [classement Elo](https://fr.wikipedia.org/wiki/Classement_Elo))."
      ],
      "metadata": {
        "id": "mM5vHrlTB-Di"
      }
    },
    {
      "cell_type": "markdown",
      "source": [
        "**Q2** Derive an appropriate cost function for our ranking problem based on the given log-likelihood."
      ],
      "metadata": {
        "id": "06sul9qLaLnt"
      }
    },
    {
      "cell_type": "markdown",
      "source": [
        "Under this model, the log-likelihood of the choice $c$ between two objects 0 and 1 is given by:\n",
        "$$ \\delta_{c=0} \\; \\ln \\left[ \\frac{e^{\\sigma y_0}}{e^{\\sigma y_0} + e^{\\sigma y_1}} \\right] + \\delta_{c=1} \\; \\ln \\left[ \\frac{e^{\\sigma y_1}}{e^{\\sigma y_0} + e^{\\sigma y_1}} \\right] $$\n",
        "\n",
        "To constrain the network to order objects based on whether they are chosen or not by the annotator on a given criterion, one can seek to maximize the log-likelihood, which is equivalent to minimizing the following cost function (equality left as an exercise):\n",
        "\n",
        "$$ \\mathcal{L}(y_0, y_1, c \\; ; \\sigma) = - \\delta_{c=1} \\; \\sigma \\; (y_1 - y_0) \\; + \\; \\ln(1 + e^{\\sigma (y_1 - y_0)})  $$"
      ],
      "metadata": {
        "id": "QRCHYKYhDvfe"
      }
    },
    {
      "cell_type": "markdown",
      "source": [
        "**Q3** Implement and compare over twenty epochs with a VGG11."
      ],
      "metadata": {
        "id": "UMHptL6PbLN3"
      }
    },
    {
      "cell_type": "code",
      "source": [
        "from torchvision import models\n",
        "vgg11 = models.vgg11(pretrained=False)"
      ],
      "metadata": {
        "id": "7AlvhBCLKvLT"
      },
      "execution_count": null,
      "outputs": []
    },
    {
      "cell_type": "code",
      "source": [
        "\n"
      ],
      "metadata": {
        "id": "yjI6LlqJLOja"
      },
      "execution_count": null,
      "outputs": []
    }
  ],
  "metadata": {
    "accelerator": "GPU",
    "colab": {
      "provenance": [],
      "gpuType": "T4"
    },
    "kernelspec": {
      "display_name": "Python 3",
      "name": "python3"
    },
    "widgets": {
      "application/vnd.jupyter.widget-state+json": {
        "dae9fc3d34dc41ccb0940337b755efa0": {
          "model_module": "@jupyter-widgets/controls",
          "model_name": "HBoxModel",
          "model_module_version": "1.5.0",
          "state": {
            "_dom_classes": [],
            "_model_module": "@jupyter-widgets/controls",
            "_model_module_version": "1.5.0",
            "_model_name": "HBoxModel",
            "_view_count": null,
            "_view_module": "@jupyter-widgets/controls",
            "_view_module_version": "1.5.0",
            "_view_name": "HBoxView",
            "box_style": "",
            "children": [
              "IPY_MODEL_3916de54306b4a079c023f033e595a8f",
              "IPY_MODEL_6ae84972004f4f24a95a5fa3e1684a1e",
              "IPY_MODEL_8218aff2d5c04afd917150d758c1f0e7"
            ],
            "layout": "IPY_MODEL_afb33110b36a4b058a195bd0cf084d3e"
          }
        },
        "3916de54306b4a079c023f033e595a8f": {
          "model_module": "@jupyter-widgets/controls",
          "model_name": "HTMLModel",
          "model_module_version": "1.5.0",
          "state": {
            "_dom_classes": [],
            "_model_module": "@jupyter-widgets/controls",
            "_model_module_version": "1.5.0",
            "_model_name": "HTMLModel",
            "_view_count": null,
            "_view_module": "@jupyter-widgets/controls",
            "_view_module_version": "1.5.0",
            "_view_name": "HTMLView",
            "description": "",
            "description_tooltip": null,
            "layout": "IPY_MODEL_3ee54f8ad9f4439ba63e847c05d1f155",
            "placeholder": "​",
            "style": "IPY_MODEL_d02f4badd885414d81ecacbe8bd55a93",
            "value": "Train Epoch 0:  94%"
          }
        },
        "6ae84972004f4f24a95a5fa3e1684a1e": {
          "model_module": "@jupyter-widgets/controls",
          "model_name": "FloatProgressModel",
          "model_module_version": "1.5.0",
          "state": {
            "_dom_classes": [],
            "_model_module": "@jupyter-widgets/controls",
            "_model_module_version": "1.5.0",
            "_model_name": "FloatProgressModel",
            "_view_count": null,
            "_view_module": "@jupyter-widgets/controls",
            "_view_module_version": "1.5.0",
            "_view_name": "ProgressView",
            "bar_style": "danger",
            "description": "",
            "description_tooltip": null,
            "layout": "IPY_MODEL_882e8a696f8a4645899c1751da8eec94",
            "max": 125,
            "min": 0,
            "orientation": "horizontal",
            "style": "IPY_MODEL_7265d54031684d4aab405e00b1925c0b",
            "value": 117
          }
        },
        "8218aff2d5c04afd917150d758c1f0e7": {
          "model_module": "@jupyter-widgets/controls",
          "model_name": "HTMLModel",
          "model_module_version": "1.5.0",
          "state": {
            "_dom_classes": [],
            "_model_module": "@jupyter-widgets/controls",
            "_model_module_version": "1.5.0",
            "_model_name": "HTMLModel",
            "_view_count": null,
            "_view_module": "@jupyter-widgets/controls",
            "_view_module_version": "1.5.0",
            "_view_name": "HTMLView",
            "description": "",
            "description_tooltip": null,
            "layout": "IPY_MODEL_0af690a92d3447b089afb80edd88964d",
            "placeholder": "​",
            "style": "IPY_MODEL_e775013d734e466aa2e4517b789be1a9",
            "value": " 117/125 [00:11&lt;00:00, 12.21it/s, loss=0.0702]"
          }
        },
        "afb33110b36a4b058a195bd0cf084d3e": {
          "model_module": "@jupyter-widgets/base",
          "model_name": "LayoutModel",
          "model_module_version": "1.2.0",
          "state": {
            "_model_module": "@jupyter-widgets/base",
            "_model_module_version": "1.2.0",
            "_model_name": "LayoutModel",
            "_view_count": null,
            "_view_module": "@jupyter-widgets/base",
            "_view_module_version": "1.2.0",
            "_view_name": "LayoutView",
            "align_content": null,
            "align_items": null,
            "align_self": null,
            "border": null,
            "bottom": null,
            "display": null,
            "flex": null,
            "flex_flow": null,
            "grid_area": null,
            "grid_auto_columns": null,
            "grid_auto_flow": null,
            "grid_auto_rows": null,
            "grid_column": null,
            "grid_gap": null,
            "grid_row": null,
            "grid_template_areas": null,
            "grid_template_columns": null,
            "grid_template_rows": null,
            "height": null,
            "justify_content": null,
            "justify_items": null,
            "left": null,
            "margin": null,
            "max_height": null,
            "max_width": null,
            "min_height": null,
            "min_width": null,
            "object_fit": null,
            "object_position": null,
            "order": null,
            "overflow": null,
            "overflow_x": null,
            "overflow_y": null,
            "padding": null,
            "right": null,
            "top": null,
            "visibility": null,
            "width": null
          }
        },
        "3ee54f8ad9f4439ba63e847c05d1f155": {
          "model_module": "@jupyter-widgets/base",
          "model_name": "LayoutModel",
          "model_module_version": "1.2.0",
          "state": {
            "_model_module": "@jupyter-widgets/base",
            "_model_module_version": "1.2.0",
            "_model_name": "LayoutModel",
            "_view_count": null,
            "_view_module": "@jupyter-widgets/base",
            "_view_module_version": "1.2.0",
            "_view_name": "LayoutView",
            "align_content": null,
            "align_items": null,
            "align_self": null,
            "border": null,
            "bottom": null,
            "display": null,
            "flex": null,
            "flex_flow": null,
            "grid_area": null,
            "grid_auto_columns": null,
            "grid_auto_flow": null,
            "grid_auto_rows": null,
            "grid_column": null,
            "grid_gap": null,
            "grid_row": null,
            "grid_template_areas": null,
            "grid_template_columns": null,
            "grid_template_rows": null,
            "height": null,
            "justify_content": null,
            "justify_items": null,
            "left": null,
            "margin": null,
            "max_height": null,
            "max_width": null,
            "min_height": null,
            "min_width": null,
            "object_fit": null,
            "object_position": null,
            "order": null,
            "overflow": null,
            "overflow_x": null,
            "overflow_y": null,
            "padding": null,
            "right": null,
            "top": null,
            "visibility": null,
            "width": null
          }
        },
        "d02f4badd885414d81ecacbe8bd55a93": {
          "model_module": "@jupyter-widgets/controls",
          "model_name": "DescriptionStyleModel",
          "model_module_version": "1.5.0",
          "state": {
            "_model_module": "@jupyter-widgets/controls",
            "_model_module_version": "1.5.0",
            "_model_name": "DescriptionStyleModel",
            "_view_count": null,
            "_view_module": "@jupyter-widgets/base",
            "_view_module_version": "1.2.0",
            "_view_name": "StyleView",
            "description_width": ""
          }
        },
        "882e8a696f8a4645899c1751da8eec94": {
          "model_module": "@jupyter-widgets/base",
          "model_name": "LayoutModel",
          "model_module_version": "1.2.0",
          "state": {
            "_model_module": "@jupyter-widgets/base",
            "_model_module_version": "1.2.0",
            "_model_name": "LayoutModel",
            "_view_count": null,
            "_view_module": "@jupyter-widgets/base",
            "_view_module_version": "1.2.0",
            "_view_name": "LayoutView",
            "align_content": null,
            "align_items": null,
            "align_self": null,
            "border": null,
            "bottom": null,
            "display": null,
            "flex": null,
            "flex_flow": null,
            "grid_area": null,
            "grid_auto_columns": null,
            "grid_auto_flow": null,
            "grid_auto_rows": null,
            "grid_column": null,
            "grid_gap": null,
            "grid_row": null,
            "grid_template_areas": null,
            "grid_template_columns": null,
            "grid_template_rows": null,
            "height": null,
            "justify_content": null,
            "justify_items": null,
            "left": null,
            "margin": null,
            "max_height": null,
            "max_width": null,
            "min_height": null,
            "min_width": null,
            "object_fit": null,
            "object_position": null,
            "order": null,
            "overflow": null,
            "overflow_x": null,
            "overflow_y": null,
            "padding": null,
            "right": null,
            "top": null,
            "visibility": null,
            "width": null
          }
        },
        "7265d54031684d4aab405e00b1925c0b": {
          "model_module": "@jupyter-widgets/controls",
          "model_name": "ProgressStyleModel",
          "model_module_version": "1.5.0",
          "state": {
            "_model_module": "@jupyter-widgets/controls",
            "_model_module_version": "1.5.0",
            "_model_name": "ProgressStyleModel",
            "_view_count": null,
            "_view_module": "@jupyter-widgets/base",
            "_view_module_version": "1.2.0",
            "_view_name": "StyleView",
            "bar_color": null,
            "description_width": ""
          }
        },
        "0af690a92d3447b089afb80edd88964d": {
          "model_module": "@jupyter-widgets/base",
          "model_name": "LayoutModel",
          "model_module_version": "1.2.0",
          "state": {
            "_model_module": "@jupyter-widgets/base",
            "_model_module_version": "1.2.0",
            "_model_name": "LayoutModel",
            "_view_count": null,
            "_view_module": "@jupyter-widgets/base",
            "_view_module_version": "1.2.0",
            "_view_name": "LayoutView",
            "align_content": null,
            "align_items": null,
            "align_self": null,
            "border": null,
            "bottom": null,
            "display": null,
            "flex": null,
            "flex_flow": null,
            "grid_area": null,
            "grid_auto_columns": null,
            "grid_auto_flow": null,
            "grid_auto_rows": null,
            "grid_column": null,
            "grid_gap": null,
            "grid_row": null,
            "grid_template_areas": null,
            "grid_template_columns": null,
            "grid_template_rows": null,
            "height": null,
            "justify_content": null,
            "justify_items": null,
            "left": null,
            "margin": null,
            "max_height": null,
            "max_width": null,
            "min_height": null,
            "min_width": null,
            "object_fit": null,
            "object_position": null,
            "order": null,
            "overflow": null,
            "overflow_x": null,
            "overflow_y": null,
            "padding": null,
            "right": null,
            "top": null,
            "visibility": null,
            "width": null
          }
        },
        "e775013d734e466aa2e4517b789be1a9": {
          "model_module": "@jupyter-widgets/controls",
          "model_name": "DescriptionStyleModel",
          "model_module_version": "1.5.0",
          "state": {
            "_model_module": "@jupyter-widgets/controls",
            "_model_module_version": "1.5.0",
            "_model_name": "DescriptionStyleModel",
            "_view_count": null,
            "_view_module": "@jupyter-widgets/base",
            "_view_module_version": "1.2.0",
            "_view_name": "StyleView",
            "description_width": ""
          }
        }
      }
    }
  },
  "nbformat": 4,
  "nbformat_minor": 0
}