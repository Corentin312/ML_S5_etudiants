{
  "cells": [
    {
      "cell_type": "markdown",
      "metadata": {
        "id": "MSgiKnAs1BbN"
      },
      "source": [
        "# Practical session n°7 : Learning to Rank\n",
        "\n",
        "Notions:\n",
        "- learning to order things\n",
        "- ranking function (or ranker)\n",
        "- curriculum learning\n",
        "- rank correlation(s)\n",
        "- hinge loss and ranknet loss\n",
        "\n",
        "\n",
        "\n",
        "\n",
        "Duration: 1 h 30"
      ]
    },
    {
      "cell_type": "markdown",
      "metadata": {
        "id": "P1waEt7NJgSx"
      },
      "source": [
        "Several problems fall under the label \"[learning-to-rank](https://link.springer.com/content/pdf/10.1007/978-3-642-15880-3_20.pdf).\" One example is sorting a given list of labels (e.g. URL of websites) by relevance to an input query. This problem is referred to as *label ranking*.\\\n",
        " In another scenario, input objects (e.g. images) should be sorted wrt a given criterion (e.g. 'foggy' or 'snowy'). Terms like *object ranking* and *learning to order things* are often used to describe this situation. In both cases, the learning is based on sorted samples, such as pairs of ordered images.\n",
        "\n",
        "In this practical session, we illustrate the latter scenario using very simple synthetic images. All images consist of a mixture of a disc and a variable number of rectangles of different shapes. The goal is to sort the images based on the pixel intensity on the disc. To achieve this, we work in a standard context where we have pairs of ordered images. Using these pairs, we will train a neural network to construct a real-valued \"ranking function\" (*ranker*) whose outputs enable the sorting of images."
      ]
    },
    {
      "cell_type": "markdown",
      "metadata": {
        "id": "Qtq1hUDdoSDC"
      },
      "source": [
        "**Exercise 1:** Problem Construction\n",
        "\n",
        "The following cells enable you to:\n",
        "- generate a dataset on colab (train, val and test),\n",
        "- define a dataset that provides pairs of images and a comparison based on the criterion of disc intensity (\"0\" if the disc is more intense in the first image, \"1\" otherwise),\n",
        "- visualize an initial batch."
      ]
    },
    {
      "cell_type": "code",
      "source": [
        "import os\n",
        "from os.path import join\n",
        "ls = lambda rep: sorted(os.listdir(rep))\n",
        "\n",
        "import torch\n",
        "import torch.nn as nn\n",
        "import torch.optim as optim\n",
        "from torch.optim import lr_scheduler\n",
        "import numpy as np\n",
        "import torchvision\n",
        "from torch.utils.data import Dataset, DataLoader, sampler\n",
        "\n",
        "import matplotlib.pyplot as plt\n",
        "import copy\n",
        "from random import randint, choice"
      ],
      "metadata": {
        "id": "Nv8w-nP22XBa"
      },
      "execution_count": 10,
      "outputs": []
    },
    {
      "cell_type": "code",
      "source": [
        "! git clone https://github.com/nanopiero/ML_S5_etudiants\n"
      ],
      "metadata": {
        "colab": {
          "base_uri": "https://localhost:8080/"
        },
        "id": "DygJhqc1hRY7",
        "outputId": "e4ec5c9c-1bb1-43cb-b626-561109f335f2"
      },
      "execution_count": 1,
      "outputs": [
        {
          "output_type": "stream",
          "name": "stdout",
          "text": [
            "Cloning into 'ML_S5_etudiants'...\n",
            "remote: Enumerating objects: 165, done.\u001b[K\n",
            "remote: Counting objects: 100% (44/44), done.\u001b[K\n",
            "remote: Compressing objects: 100% (37/37), done.\u001b[K\n",
            "remote: Total 165 (delta 20), reused 16 (delta 7), pack-reused 121 (from 1)\u001b[K\n",
            "Receiving objects: 100% (165/165), 3.31 MiB | 21.43 MiB/s, done.\n",
            "Resolving deltas: 100% (53/53), done.\n"
          ]
        }
      ]
    },
    {
      "cell_type": "code",
      "source": [
        "! cp ML_S5_etudiants/utils_P7.py .\n",
        "from utils_P7 import *\n",
        "root = r\"/content\""
      ],
      "metadata": {
        "id": "i3L0knfj0MDU"
      },
      "execution_count": 6,
      "outputs": []
    },
    {
      "cell_type": "code",
      "source": [
        "device = torch.device(\"cuda\" if torch.cuda.is_available() else \"cpu\")"
      ],
      "metadata": {
        "id": "5ubPaW6jE3n-"
      },
      "execution_count": 7,
      "outputs": []
    },
    {
      "cell_type": "code",
      "execution_count": 8,
      "metadata": {
        "id": "DM4QiDC95gak"
      },
      "outputs": [],
      "source": [
        "dir_trainval = join(root, r\"train\")\n",
        "generate_dataset(dir_trainval, size_dataset=10000)\n",
        "\n",
        "dir_test = join(root, r\"test\")\n",
        "generate_dataset(dir_test, size_dataset=2000)"
      ]
    },
    {
      "cell_type": "code",
      "source": [
        "# Retrieving target values\n",
        "\n",
        "# Image paths:\n",
        "dir_images_trainval = os.path.join(dir_trainval, 'images')\n",
        "dir_images_test = os.path.join(dir_test, 'images')\n",
        "\n",
        "# Target values for train+val\n",
        "label_dict_path_trainval = os.path.join(dir_trainval, 'labels_synthese.pickle')\n",
        "with open(label_dict_path_trainval, 'rb') as handle:\n",
        "    label_dict_trainval = pickle.load(handle)\n",
        "\n",
        "# Target values for test\n",
        "label_dict_path_test = os.path.join(dir_test, 'labels_synthese.pickle')\n",
        "with open(label_dict_path_test, 'rb') as handle:\n",
        "    label_dict_test = pickle.load(handle)\n",
        "\n",
        "# Splitting train / val (8000/2000)\n",
        "all_image_names = np.array(ls(dir_images_trainval))\n",
        "\n",
        "train_indices = list(range(0, 8000))\n",
        "names_train = all_image_names[train_indices]\n",
        "val_indices = list(range(8000, 10000))\n",
        "names_val = all_image_names[val_indices]\n",
        "names_test = ls(dir_images_test)\n",
        "\n",
        "# Note: for random splitting, use sklearn.model_selection.train_test_split as tts"
      ],
      "metadata": {
        "id": "v04NNmhgBbY6"
      },
      "execution_count": 11,
      "outputs": []
    },
    {
      "cell_type": "code",
      "execution_count": null,
      "metadata": {
        "id": "0pC2CQnsDREe"
      },
      "outputs": [],
      "source": [
        "# if error:\n",
        "# from shutil import rmtree\n",
        "# rmtree(dir_test)"
      ]
    },
    {
      "cell_type": "code",
      "execution_count": 12,
      "metadata": {
        "id": "fv4HHS6Y67lE"
      },
      "outputs": [],
      "source": [
        "# Data Augmentation\n",
        "class SuperFlip(object):\n",
        "    \"\"\"\n",
        "    The 8 transformations\n",
        "    generated by R(Pi/2) and vertical symmetry/axis\n",
        "    \"\"\"\n",
        "    def __init__(self, num_transforms):\n",
        "        self.num_transforms = num_transforms\n",
        "\n",
        "    def __call__(self, image):\n",
        "        # Note: Ideally, torch.randint should be used here...\n",
        "        n = randint(0, self.num_transforms)\n",
        "        if n == 1:\n",
        "            image = image.flip([1])\n",
        "        elif n == 2:\n",
        "            image = image.flip([2])\n",
        "        elif n == 3:\n",
        "            image = image.transpose(1, 2)\n",
        "        elif n == 4:\n",
        "            image = image.transpose(1, 2).flip([1])\n",
        "        elif n == 5:\n",
        "            image = image.transpose(1, 2).flip([2])\n",
        "        elif n == 6:\n",
        "            image = image.flip([1, 2])\n",
        "        elif n == 7:\n",
        "            image = image.transpose(1, 2).flip([1, 2])\n",
        "        return image\n",
        "\n",
        "super_flip_transform = SuperFlip(8)\n",
        "\n",
        "transforms = {\n",
        "    'train': super_flip_transform,\n",
        "    'val': None,\n",
        "    'test': None\n",
        "}"
      ]
    },
    {
      "cell_type": "code",
      "execution_count": 28,
      "metadata": {
        "id": "E7Qf6WY36-Fo"
      },
      "outputs": [],
      "source": [
        "# Dataset Construction:\n",
        "def oracle(name0, name1, data_dict):\n",
        "    # Load the data:\n",
        "    y0 = data_dict[name0]['y']\n",
        "    y1 = data_dict[name1]['y']\n",
        "\n",
        "    # Determine the comparison:\n",
        "    compa = 0 if y1 < y0 else 1\n",
        "    return compa\n",
        "\n",
        "class DatasetOrderedPairs(torch.utils.data.Dataset):\n",
        "    def __init__(self, images_dir, data_dict, transform=None):\n",
        "        self.images_dir = images_dir\n",
        "        self.transform = transform\n",
        "        self.imgs = ls(images_dir)\n",
        "        self.data_dict = data_dict\n",
        "\n",
        "    def __getitem__(self, idx):\n",
        "        name0 = self.imgs[idx]\n",
        "        name1 = choice(self.imgs)\n",
        "        label = oracle(name0, name1, self.data_dict)\n",
        "\n",
        "        # Get the images\n",
        "        path0 = os.path.join(self.images_dir, name0)\n",
        "        img0 = torch.load(path0, weights_only=True)\n",
        "        path1 = os.path.join(self.images_dir, name1)\n",
        "        img1 = torch.load(path1, weights_only=True)\n",
        "\n",
        "        if self.transform is not None:\n",
        "            img0 = self.transform(img0)\n",
        "            img1 = self.transform(img1)\n",
        "\n",
        "        return img0, img1, torch.from_numpy(np.array(label)).long(), name0, name1   # -1 if no class 0\n",
        "\n",
        "    def __len__(self):\n",
        "        return len(self.imgs)"
      ]
    },
    {
      "cell_type": "code",
      "execution_count": 29,
      "metadata": {
        "id": "GI1DH45t7AcN"
      },
      "outputs": [],
      "source": [
        "# Dataset instantiation:\n",
        "dataset_train = DatasetOrderedPairs(dir_images_trainval, label_dict_trainval, transforms['train'])\n",
        "dataset_val = DatasetOrderedPairs(dir_images_trainval, label_dict_trainval, transforms['val'])\n",
        "dataset_test = DatasetOrderedPairs(dir_images_test, label_dict_test, transforms['test'])\n",
        "\n",
        "datasets = {'train': dataset_train, 'val': dataset_val, 'test': dataset_test}"
      ]
    },
    {
      "cell_type": "code",
      "execution_count": 30,
      "metadata": {
        "id": "FiM4F3gaAzw3"
      },
      "outputs": [],
      "source": [
        "# Samplers and loaders\n",
        "train_sampler = torch.utils.data.sampler.SubsetRandomSampler(train_indices)\n",
        "val_sampler = torch.utils.data.sampler.SubsetRandomSampler(val_indices)\n",
        "\n",
        "samplers = {'train': train_sampler, 'val': val_sampler}\n",
        "\n",
        "batch_size = 64\n",
        "\n",
        "dataloaders = {x: torch.utils.data.DataLoader(datasets[x], batch_size=batch_size, shuffle=False, sampler=samplers[x], num_workers=2) for x in ['train', 'val']}\n",
        "dataloaders['test'] = torch.utils.data.DataLoader(datasets['test'], batch_size=batch_size, shuffle=False, num_workers=0)\n",
        "dataset_sizes = {'train': len(names_train), 'val': len(names_val), 'test': len(names_test)}\n",
        "\n",
        "dataloaders['viz'] = torch.utils.data.DataLoader(datasets['train'], batch_size=6, shuffle=False, num_workers=0)"
      ]
    },
    {
      "cell_type": "code",
      "execution_count": null,
      "metadata": {
        "id": "A0Qib3bU7EUO"
      },
      "outputs": [],
      "source": [
        "# Visualisation\n",
        "\n",
        "img1, img2, labels, _, _ = next(iter(dataloaders['viz']))\n",
        "\n",
        "fig0 = plt.figure(0, figsize=(15, 3))\n",
        "voir_batch2D(img1, nx = 8, fig = fig0, k=0, min_scale=0,max_scale=10)\n",
        "fig1 = plt.figure(1, figsize=(15, 3))\n",
        "voir_batch2D(img2, nx = 8, fig = fig1, k=0, min_scale=0,max_scale=10)\n",
        "\n",
        "print(labels)\n"
      ]
    },
    {
      "cell_type": "markdown",
      "source": [
        "**Q0** How is done the separation between training and validation done here?"
      ],
      "metadata": {
        "id": "iycy2im3U8wg"
      }
    },
    {
      "cell_type": "markdown",
      "source": [
        "Using specific samplers."
      ],
      "metadata": {
        "id": "KaY8x8YOVICz"
      }
    },
    {
      "cell_type": "markdown",
      "source": [
        "**Q1** What is the role of *super_flip*? And that of the *oracle* function?"
      ],
      "metadata": {
        "id": "3QR_3fcbEBJg"
      }
    },
    {
      "cell_type": "markdown",
      "source": [
        "- *super_flip* implements eight very simple plan transformations: all those generated by a rotation of angle $\\pi/2$ and symmetry about the vertical axis.\n",
        "- *oracle* uses data that is not accessible in a real-world scenario: the numerical values of the feature. It compares these values to provide the result of the comparison."
      ],
      "metadata": {
        "id": "0uYq3R0zE0kb"
      }
    },
    {
      "cell_type": "markdown",
      "source": [
        "**Q2** Are all pairs of images equally easy to order?"
      ],
      "metadata": {
        "id": "Ln7gZSUGEnmU"
      }
    },
    {
      "cell_type": "markdown",
      "source": [
        "Ordering becomes challenging when one of the discs is obscured or noisy, or when the two values are close."
      ],
      "metadata": {
        "id": "DTpPTeZUEK2j"
      }
    },
    {
      "cell_type": "markdown",
      "source": [
        "**Exercise 2:** Siamese Learning\n",
        "\n",
        "During training, batches of image pairs are compared. Basic siamese network training involves passing each image in the pair independently through the model and penalizing the model when the outputs are arranged in the wrong order.\n",
        "\n",
        "The simplest way to do this is to consider the positive part of the difference between the outputs. This is what the following cost function does:"
      ],
      "metadata": {
        "id": "hFv2OfMMF1mF"
      }
    },
    {
      "cell_type": "code",
      "execution_count": 17,
      "metadata": {
        "id": "eYZtrZy07G-r"
      },
      "outputs": [],
      "source": [
        "# Hinge Loss function\n",
        "\n",
        "def label_to_sgn(label):  # 0 -> 1  and 1 -> -1\n",
        "    sgn = torch.where(label == 0, 1, -1)\n",
        "    return sgn\n",
        "\n",
        "class HingeLoss(torch.nn.Module):\n",
        "    def __init__(self, margin=0.1):\n",
        "        super(HingeLoss, self).__init__()\n",
        "        self.margin = margin\n",
        "\n",
        "    def forward(self, output0, output1, label):\n",
        "        sgn = label_to_sgn(label)\n",
        "        diff = sgn * (output1 - output0)\n",
        "\n",
        "        loss = torch.relu(diff + self.margin).mean()\n",
        "        return loss"
      ]
    },
    {
      "cell_type": "markdown",
      "source": [
        "**Q1** Write the training loop and run it for 20 epochs. Keep track of the successive accuracies."
      ],
      "metadata": {
        "id": "YmVCCdfxUN86"
      }
    },
    {
      "cell_type": "code",
      "execution_count": null,
      "metadata": {
        "id": "04USzeWb7I8m"
      },
      "outputs": [],
      "source": [
        "num_epochs = 20\n",
        "channels = 1\n",
        "\n",
        "# With a ResNet18\n",
        "from torchvision.models import resnet18\n",
        "model = resnet18(num_classes=1)\n",
        "print(model.inplanes)\n",
        "model.conv1 =  nn.Conv2d(channels, 64, kernel_size=7, stride=2, padding=3, bias=False)\n",
        "nn.init.kaiming_normal_( model.conv1.weight, mode=\"fan_out\", nonlinearity=\"relu\")\n",
        "\n",
        "\n",
        "device = torch.device(\"cuda:0\")\n",
        "model = model.to(device)\n",
        "\n",
        "\n",
        "criterion = HingeLoss(0.1)\n",
        "optimizer = optim.Adam(model.parameters(), lr = 0.002 )\n",
        "\n",
        "\n",
        "# Loss function and optimizer\n",
        "criterion = HingeLoss(margin=0.1)\n",
        "optimizer = optim.Adam(model.parameters(), lr=0.001)"
      ]
    },
    {
      "cell_type": "code",
      "execution_count": null,
      "metadata": {
        "id": "i1wHjBb77Ly5"
      },
      "outputs": [],
      "source": [
        "from tqdm import tqdm, notebook\n",
        "\n",
        "\n",
        "train_accs = []\n",
        "val_accs = []\n",
        "\n",
        "phases = ['train', 'val']\n",
        "\n",
        "for epoch in range(num_epochs):\n",
        "    print(f'Epoch {epoch+1}/{num_epochs}')\n",
        "    print('-' * 10)\n",
        "\n",
        "    # Each epoch has a training and validation phase\n",
        "    for phase in phases:\n",
        "        if phase == 'train':\n",
        "            model.train()  # Set model to training mode\n",
        "        else:\n",
        "            model.eval()   # Set model to evaluate mode\n",
        "\n",
        "        running_loss = 0.0\n",
        "        running_corrects = 0\n",
        "        data_loader = notebook.tqdm(dataloaders[phase], desc=f'{phase.capitalize()} Epoch {epoch}', leave= phase == 'train')\n",
        "        # Iterate over data.\n",
        "        for img1, img2, labels, _, _ in data_loader:\n",
        "            img1 = img1.to(device)\n",
        "            img2 = img2.to(device)\n",
        "            labels = labels.to(device).detach()\n",
        "\n",
        "            # zero the parameter gradients\n",
        "            optimizer.zero_grad()\n",
        "\n",
        "            # forward\n",
        "            # track history if only in train\n",
        "            with torch.set_grad_enabled(phase == 'train'):\n",
        "                output1 = model(img1)\n",
        "                output2 = model(img2)\n",
        "                _, preds = torch.max(torch.cat((output1, output2), dim=1), 1)\n",
        "\n",
        "                loss = criterion(output1, output2, labels.to(torch.float32).unsqueeze(dim=1))\n",
        "\n",
        "                # backward + optimize only if in training phase\n",
        "                if phase == 'train':\n",
        "                    loss.backward()\n",
        "                    optimizer.step()\n",
        "\n",
        "            # statistics\n",
        "            running_loss += loss.item() * img1.size(0)\n",
        "            running_corrects += torch.sum(preds == labels.data).double().item()\n",
        "\n",
        "            data_loader.set_postfix(loss=f'{loss.item():.4f}', refresh=False)\n",
        "\n",
        "        epoch_loss = running_loss / dataset_sizes[phase]\n",
        "        epoch_acc = running_corrects / dataset_sizes[phase]\n",
        "\n",
        "        print(f'{phase} Loss: {epoch_loss:.4f} Acc: {epoch_acc:.4f}')\n",
        "\n",
        "        if phase == 'train':\n",
        "            train_accs.append(epoch_acc)\n",
        "\n",
        "        if phase == 'val':\n",
        "            val_accs.append(epoch_acc)\n"
      ]
    },
    {
      "cell_type": "markdown",
      "source": [
        "**Q3** Check the learning curve."
      ],
      "metadata": {
        "id": "HU951Grd1tWR"
      }
    },
    {
      "cell_type": "code",
      "source": [
        "plt.plot(range(num_epochs), val_accs)\n",
        "plt.title('accuracy (validation set)')"
      ],
      "metadata": {
        "id": "BX89CrFa3GoS"
      },
      "execution_count": null,
      "outputs": []
    },
    {
      "cell_type": "markdown",
      "source": [
        "**Q4** Interprete the following scatterplot:"
      ],
      "metadata": {
        "id": "MPhXKjr7VW0a"
      }
    },
    {
      "cell_type": "code",
      "execution_count": null,
      "metadata": {
        "id": "jSL2b6Ro7P_l"
      },
      "outputs": [],
      "source": [
        "# true (mean) pixel intensity on the disk:\n",
        "ys = []\n",
        "# outputs of the network:\n",
        "yhats = []\n",
        "\n",
        "# browse the test set:\n",
        "for name in names_test:\n",
        "    # get true mean intensity on the disk\n",
        "    y = label_dict_test[name]['y']\n",
        "    ys.append(y)\n",
        "\n",
        "    path = join(dir_images_test, name)\n",
        "    image = torch.load(path)\n",
        "    image = image.cuda().unsqueeze(dim=0)\n",
        "\n",
        "    # get model output\n",
        "    yhat = model.eval()(image)\n",
        "    yhat = yhat.item()\n",
        "    yhats.append(yhat)\n",
        "\n",
        "# make np array\n",
        "ys = np.array(ys)\n",
        "yhats = np.array(yhats)\n",
        "\n",
        "# scatterplot\n",
        "plt.figure(num=10)\n",
        "plt.scatter(ys, yhats, marker='+')\n",
        "plt.xlabel('y')\n",
        "plt.ylabel('$\\hat{y}$')\n"
      ]
    },
    {
      "cell_type": "markdown",
      "source": [
        "**Q5** Calculate the Spearman and Kendall rank correlations. Which of the two is related to the accuracy measure?\n"
      ],
      "metadata": {
        "id": "RIiUvbAi1WYq"
      }
    },
    {
      "cell_type": "code",
      "source": [
        "# Compute correlation ranks\n",
        "from scipy.stats import spearmanr, kendalltau\n",
        "\n",
        "spearman, ps = spearmanr(ys, yhats)\n",
        "kendall, pk = kendalltau(ys, yhats)\n",
        "\n",
        "print(spearman)\n",
        "print(kendall)"
      ],
      "metadata": {
        "colab": {
          "base_uri": "https://localhost:8080/"
        },
        "id": "vDzdt7gd1Z9Z",
        "outputId": "8ca34b30-51d4-41ef-a838-9aef5b0f9a95"
      },
      "execution_count": 40,
      "outputs": [
        {
          "output_type": "stream",
          "name": "stdout",
          "text": [
            "0.9383585405896352\n",
            "0.7959699849924962\n"
          ]
        }
      ]
    },
    {
      "cell_type": "markdown",
      "metadata": {
        "id": "mZpLh5fFMzmq"
      },
      "source": [
        "**Q6** How would you improve performance ?"
      ]
    },
    {
      "cell_type": "markdown",
      "source": [
        "Curriculum Learning:\n",
        "- Seek more \"challenging\" pairs towards the end of training.\n",
        "\n",
        "Optimization:\n",
        "- Consider adding a learning rate scheduler.\n",
        "\n",
        "Other Loss Functions:\n",
        "- Explore RankNet loss.\n",
        "- Explore Listnet Loss."
      ],
      "metadata": {
        "id": "jw6CdRxcV0AC"
      }
    },
    {
      "cell_type": "markdown",
      "source": [
        "**Exercice 3** Curriculum Learning"
      ],
      "metadata": {
        "id": "mokDJcGBncXF"
      }
    },
    {
      "cell_type": "markdown",
      "source": [
        "Les cinq cellules suivantes ont été utilisées pour générer un checkpoint. Elles ne font pas vraiment partie de la correction."
      ],
      "metadata": {
        "id": "d_OJyVbcU5WM"
      }
    },
    {
      "cell_type": "code",
      "source": [
        "num_epochs = 50\n",
        "channels = 1\n",
        "\n",
        "# With a ResNet18\n",
        "from torchvision.models import resnet18\n",
        "model = resnet18(num_classes=1)\n",
        "print(model.inplanes)\n",
        "model.conv1 =  nn.Conv2d(channels, 64, kernel_size=7, stride=2, padding=3, bias=False)\n",
        "nn.init.kaiming_normal_( model.conv1.weight, mode=\"fan_out\", nonlinearity=\"relu\")\n",
        "\n",
        "\n",
        "device = torch.device(\"cuda:0\")\n",
        "model = model.to(device)\n",
        "\n",
        "\n",
        "criterion = HingeLoss(0.1)\n",
        "optimizer = optim.Adam(model.parameters(), lr = 0.002 )\n",
        "\n",
        "\n",
        "# Loss function and optimizer\n",
        "criterion = HingeLoss(margin=0.1)\n",
        "optimizer = optim.Adam(model.parameters(), lr=0.001)"
      ],
      "metadata": {
        "colab": {
          "base_uri": "https://localhost:8080/"
        },
        "id": "sOGe4tBay0EZ",
        "outputId": "47605341-2b48-416c-8137-512fd20a25cd"
      },
      "execution_count": null,
      "outputs": [
        {
          "output_type": "stream",
          "name": "stdout",
          "text": [
            "512\n"
          ]
        }
      ]
    },
    {
      "cell_type": "code",
      "source": [
        "from tqdm import tqdm, notebook\n",
        "\n",
        "best_model_wts = copy.deepcopy(model.state_dict())\n",
        "best_acc = 0.0\n",
        "train_accs = []\n",
        "val_accs = []\n",
        "\n",
        "phases = ['train', 'val']\n",
        "\n",
        "for epoch in range(num_epochs):\n",
        "    print(f'Epoch {epoch+1}/{num_epochs}')\n",
        "    print('-' * 10)\n",
        "\n",
        "    # Each epoch has a training and validation phase\n",
        "    for phase in phases:\n",
        "        if phase == 'train':\n",
        "            model.train()  # Set model to training mode\n",
        "        else:\n",
        "            model.eval()   # Set model to evaluate mode\n",
        "\n",
        "        running_loss = 0.0\n",
        "        running_corrects = 0\n",
        "        data_loader = notebook.tqdm(dataloaders[phase], desc=f'{phase.capitalize()} Epoch {epoch}', leave= phase == 'train')\n",
        "        # Iterate over data.\n",
        "        for img1, img2, labels, _, _ in data_loader:\n",
        "            img1 = img1.to(device)\n",
        "            img2 = img2.to(device)\n",
        "            labels = labels.to(device).detach()\n",
        "\n",
        "            # zero the parameter gradients\n",
        "            optimizer.zero_grad()\n",
        "\n",
        "            # forward\n",
        "            # track history if only in train\n",
        "            with torch.set_grad_enabled(phase == 'train'):\n",
        "                output1 = model(img1)\n",
        "                output2 = model(img2)\n",
        "                _, preds = torch.max(torch.cat((output1, output2), dim=1), 1)\n",
        "\n",
        "                loss = criterion(output1, output2, labels.to(torch.float32).unsqueeze(dim=1))\n",
        "\n",
        "                # backward + optimize only if in training phase\n",
        "                if phase == 'train':\n",
        "                    loss.backward()\n",
        "                    optimizer.step()\n",
        "\n",
        "            # statistics\n",
        "            running_loss += loss.item() * img1.size(0)\n",
        "            running_corrects += torch.sum(preds == labels.data).double().item()\n",
        "\n",
        "            data_loader.set_postfix(loss=f'{loss.item():.4f}', refresh=False)\n",
        "\n",
        "        epoch_loss = running_loss / dataset_sizes[phase]\n",
        "        epoch_acc = running_corrects / dataset_sizes[phase]\n",
        "\n",
        "        print(f'{phase} Loss: {epoch_loss:.4f} Acc: {epoch_acc:.4f}')\n",
        "\n",
        "        if phase == 'train':\n",
        "            train_accs.append(epoch_acc)\n",
        "\n",
        "        if phase == 'val':\n",
        "            val_accs.append(epoch_acc)\n",
        "\n",
        "        # Deep copy the model\n",
        "        if phase == 'val' and epoch_acc > best_acc:\n",
        "            best_acc = epoch_acc\n",
        "            best_model_wts = copy.deepcopy(model.state_dict())"
      ],
      "metadata": {
        "id": "UG6Bz7ev6fcT"
      },
      "execution_count": null,
      "outputs": []
    },
    {
      "cell_type": "code",
      "source": [
        "from google.colab import drive\n",
        "import os\n",
        "drive.mount('/content/drive')\n"
      ],
      "metadata": {
        "id": "FrbUMdqa9gir"
      },
      "execution_count": null,
      "outputs": []
    },
    {
      "cell_type": "code",
      "source": [
        "os.chdir('/content/drive/MyDrive/TP_ENM_2324/TP_DEV/TP5_LTR_&_ReID')"
      ],
      "metadata": {
        "id": "iAkC0ZAh957t"
      },
      "execution_count": null,
      "outputs": []
    },
    {
      "cell_type": "code",
      "source": [
        "checkpoint = {\n",
        "    'val_accs': val_accs,\n",
        "    'model': model.state_dict(),\n",
        "    'optimizer': optimizer.state_dict()}\n",
        "model_name = 'resnet18_50ep.checkpoint'\n",
        "PATH = join('./' + model_name)\n",
        "torch.save(checkpoint, PATH)"
      ],
      "metadata": {
        "id": "xs0RtBGc9Ig1"
      },
      "execution_count": null,
      "outputs": []
    },
    {
      "cell_type": "markdown",
      "source": [
        "One idea is to make the problem harder after an initial training phase. The following code allows you to retrieve a ResNet18 trained for 50 epochs, the optimizer, and the associated learning curve:"
      ],
      "metadata": {
        "id": "ZouHyg51niH8"
      }
    },
    {
      "cell_type": "code",
      "source": [
        "! pip install huggingface_hub\n",
        "from huggingface_hub import hf_hub_download\n",
        "model_hf_name = \"resnet18_50ep.checkpoint\"\n",
        "PATH_checkpoint = hf_hub_download(repo_id=\"nanopiero/models_ML_S5_P7\", filename=model_hf_name)"
      ],
      "metadata": {
        "id": "f9gMzRyBD-Ln"
      },
      "execution_count": null,
      "outputs": []
    },
    {
      "cell_type": "markdown",
      "source": [
        "**Q1** Continue training for an additional 20 epochs without changing the dataloader. Remember to store accuracies related to the validation set and outputs related to the test set."
      ],
      "metadata": {
        "id": "9cbFjkshyhB4"
      }
    },
    {
      "cell_type": "code",
      "source": [
        "dataloaders = {x: torch.utils.data.DataLoader(datasets[x], batch_size=batch_size, shuffle=False, sampler=samplers[x], num_workers=2) for x in ['train', 'val']}"
      ],
      "metadata": {
        "id": "48mbnbqsROjM"
      },
      "execution_count": 46,
      "outputs": []
    },
    {
      "cell_type": "code",
      "source": [
        "model = resnet18(num_classes=1)\n",
        "model.conv1 =  nn.Conv2d(channels, 64, kernel_size=7, stride=2, padding=3, bias=False)\n",
        "device = torch.device(\"cuda:0\")\n",
        "model = model.to(device)\n",
        "optimizer = optim.Adam(model.parameters(), lr=0.001)\n",
        "\n",
        "checkpoint = torch.load(PATH_checkpoint, weights_only=True)\n",
        "print(checkpoint.keys())\n",
        "\n",
        "model.load_state_dict(checkpoint['model'])\n",
        "optimizer.load_state_dict(checkpoint['optimizer'])\n",
        "val_accs_control = checkpoint['val_accs']"
      ],
      "metadata": {
        "colab": {
          "base_uri": "https://localhost:8080/"
        },
        "id": "U-vJZUGLEf3G",
        "outputId": "b1005acd-97b2-467f-f147-0ea124fd25f2"
      },
      "execution_count": 48,
      "outputs": [
        {
          "output_type": "stream",
          "name": "stdout",
          "text": [
            "dict_keys(['val_accs', 'model', 'optimizer'])\n"
          ]
        }
      ]
    },
    {
      "cell_type": "code",
      "source": [
        "# To save the best control model\n",
        "best_control_model_wts = copy.deepcopy(model.state_dict())\n",
        "best_acc = 0.0\n",
        "\n",
        "train_accs = []\n",
        "num_epochs = 20\n",
        "\n",
        "phases = ['train', 'val']\n",
        "\n",
        "for epoch in range(num_epochs):\n",
        "    print(f'Epoch {epoch+1}/{num_epochs}')\n",
        "    print('-' * 10)\n",
        "\n",
        "    # Each epoch has a training and validation phase\n",
        "    for phase in phases:\n",
        "        if phase == 'train':\n",
        "            model.train()  # Set model to training mode\n",
        "        else:\n",
        "            model.eval()   # Set model to evaluate mode\n",
        "\n",
        "        running_loss = 0.0\n",
        "        running_corrects = 0\n",
        "        data_loader = notebook.tqdm(dataloaders[phase], desc=f'{phase.capitalize()} Epoch {epoch}', leave= phase == 'train')\n",
        "        # Iterate over data.\n",
        "        for img1, img2, labels, _, _ in data_loader:\n",
        "            img1 = img1.to(device)\n",
        "            img2 = img2.to(device)\n",
        "            labels = labels.to(device).detach()\n",
        "\n",
        "            # zero the parameter gradients\n",
        "            optimizer.zero_grad()\n",
        "\n",
        "            # forward\n",
        "            # track history if only in train\n",
        "            with torch.set_grad_enabled(phase == 'train'):\n",
        "                output1 = model(img1)\n",
        "                output2 = model(img2)\n",
        "                _, preds = torch.max(torch.cat((output1, output2), dim=1), 1)\n",
        "\n",
        "                loss = criterion(output1, output2, labels.to(torch.float32).unsqueeze(dim=1))\n",
        "\n",
        "                # backward + optimize only if in training phase\n",
        "                if phase == 'train':\n",
        "                    loss.backward()\n",
        "                    optimizer.step()\n",
        "\n",
        "            # statistics\n",
        "            running_loss += loss.item() * img1.size(0)\n",
        "            running_corrects += torch.sum(preds == labels.data).double().item()\n",
        "\n",
        "            data_loader.set_postfix(loss=f'{loss.item():.4f}', refresh=False)\n",
        "\n",
        "        epoch_loss = running_loss / dataset_sizes[phase]\n",
        "        epoch_acc = running_corrects / dataset_sizes[phase]\n",
        "\n",
        "        print(f'{phase} Loss: {epoch_loss:.4f} Acc: {epoch_acc:.4f}')\n",
        "\n",
        "\n",
        "        if phase == 'val':\n",
        "            val_accs_control.append(epoch_acc)\n",
        "\n",
        "        if phase == 'val' and epoch_acc > best_acc:\n",
        "            best_acc = epoch_acc\n",
        "            best_control_model_wts = copy.deepcopy(model.state_dict())"
      ],
      "metadata": {
        "id": "C8SVWL1jEXK2"
      },
      "execution_count": null,
      "outputs": []
    },
    {
      "cell_type": "code",
      "source": [
        "model.load_state_dict(best_control_model_wts)\n",
        "yhats_control = []\n",
        "\n",
        "# browse the test set:\n",
        "for name in names_test:\n",
        "    # get true mean intensity on the disk\n",
        "    y = label_dict_test[name]['y']\n",
        "\n",
        "    path = join(dir_images_test, name)\n",
        "    image = torch.load(path)\n",
        "    image = image.cuda().unsqueeze(dim=0)\n",
        "\n",
        "    # get model output\n",
        "    yhat = model.eval()(image)\n",
        "    yhat = yhat.item()\n",
        "    yhats_control.append(yhat)\n",
        "\n",
        "# make np array\n",
        "yhats_control = np.array(yhats_control)"
      ],
      "metadata": {
        "id": "OuKTXxRxW6SV"
      },
      "execution_count": null,
      "outputs": []
    },
    {
      "cell_type": "markdown",
      "source": [
        "**Q2** We will now continue training on pairs that are harder to order. For this purpose, we have the 'Dataset_finer_pairs' dataset below. Train for 20 epochs using this dataset."
      ],
      "metadata": {
        "id": "GzxxFnHNF8_X"
      }
    },
    {
      "cell_type": "code",
      "source": [
        "def make_dic_ray(imgs, dic, ray):\n",
        "\n",
        "  ys = np.array([dic[img]['y'] for img in imgs])\n",
        "  imgs = np.array(imgs)\n",
        "  dic_ray = {}\n",
        "  for i,img in enumerate(imgs):\n",
        "    y = ys[i]\n",
        "    # on limite la paire à des disques proches en intensité\n",
        "    dic_ray[img] = list(imgs[np.abs(ys - y) < ray])\n",
        "\n",
        "  return dic_ray\n",
        "\n",
        "class Dataset_finer_pairs(torch.utils.data.Dataset):\n",
        "    def __init__(self, images_dir,  dic, transfo = None, ray=0.5):\n",
        "        self.images_dir = images_dir\n",
        "        self.transfo = transfo\n",
        "        self.imgs = sorted(ls(images_dir))\n",
        "        self.dic = dic\n",
        "        self.dic_ray = make_dic_ray(self.imgs, dic, ray)\n",
        "\n",
        "    def __getitem__(self,idx):\n",
        "\n",
        "        name0 = self.imgs[idx]\n",
        "        name1 = choice(self.dic_ray[name0])\n",
        "        label = oracle(name0, name1, self.dic)\n",
        "\n",
        "\n",
        "        #get the images\n",
        "        path0 = os.path.join(self.images_dir, name0)\n",
        "        img0 =  torch.load(path0, weights_only=True)\n",
        "        path1 = os.path.join(self.images_dir, name1)\n",
        "        img1 = torch.load(path1, weights_only=True)\n",
        "\n",
        "\n",
        "        if self.transfo is not None:\n",
        "            img0 = self.transfo(img0)\n",
        "            img1 = self.transfo(img1)\n",
        "\n",
        "        return img0, img1,  torch.from_numpy(np.array(label)).long(), name0, name1\n",
        "\n",
        "    def __len__(self):\n",
        "        return len(self.imgs)"
      ],
      "metadata": {
        "id": "lGG_CL2GF8JY"
      },
      "execution_count": 51,
      "outputs": []
    },
    {
      "cell_type": "markdown",
      "source": [
        "Correction :"
      ],
      "metadata": {
        "id": "jallN2reP0Er"
      }
    },
    {
      "cell_type": "code",
      "source": [
        "    epoch_ray = 1.\n",
        "    dataset_train = Dataset_finer_pairs(dir_images_trainval,\n",
        "                                        label_dict_trainval,\n",
        "                                        transforms['train'],\n",
        "                                        ray = epoch_ray)\n",
        "    dataloaders['train'] = torch.utils.data.DataLoader(dataset_train,\n",
        "                                                batch_size=batch_size,\n",
        "                                                shuffle=False,\n",
        "                                                sampler = samplers['train'],\n",
        "                                                num_workers=2)"
      ],
      "metadata": {
        "id": "UIU01fJAPxmj"
      },
      "execution_count": 52,
      "outputs": []
    },
    {
      "cell_type": "code",
      "source": [
        "model = resnet18(num_classes=1)\n",
        "model.conv1 =  nn.Conv2d(channels, 64, kernel_size=7, stride=2, padding=3, bias=False)\n",
        "device = torch.device(\"cuda:0\")\n",
        "model = model.to(device)\n",
        "optimizer = optim.Adam(model.parameters(), lr=0.001)\n",
        "\n",
        "checkpoint = torch.load(PATH_checkpoint)\n",
        "\n",
        "model.load_state_dict(checkpoint['model'])\n",
        "optimizer.load_state_dict(checkpoint['optimizer'])\n",
        "val_accs_curriculum = checkpoint['val_accs']"
      ],
      "metadata": {
        "id": "uAU1RM6VJFWg"
      },
      "execution_count": null,
      "outputs": []
    },
    {
      "cell_type": "code",
      "source": [
        "num_epochs = 20\n",
        "train_accs = []\n",
        "\n",
        "phases = ['train', 'val']\n",
        "\n",
        "for epoch in range(num_epochs):\n",
        "    print(f'Epoch {epoch+1}/{num_epochs}')\n",
        "    print('-' * 10)\n",
        "\n",
        "\n",
        "    # Each epoch has a training and validation phase\n",
        "    for phase in phases:\n",
        "        if phase == 'train':\n",
        "            model.train()  # Set model to training mode\n",
        "        else:\n",
        "            model.eval()   # Set model to evaluate mode\n",
        "\n",
        "        running_loss = 0.0\n",
        "        running_corrects = 0\n",
        "\n",
        "        # Iterate over data.\n",
        "        data_loader = notebook.tqdm(dataloaders[phase],\n",
        "                                    desc=f'{phase.capitalize()} Epoch {epoch}',\n",
        "                                    leave= phase == 'train')\n",
        "        for img1, img2, labels, img3 , _ in data_loader:\n",
        "            img1 = img1.to(device)\n",
        "            img2 = img2.to(device)\n",
        "            # if phase == 'train':\n",
        "            #   img3 = img3.to(device)\n",
        "            #print(inputs)\n",
        "            labels = labels.to(device).detach()\n",
        "\n",
        "            # zero the parameter gradients\n",
        "            optimizer.zero_grad()\n",
        "\n",
        "            # forward\n",
        "            # track history if only in train\n",
        "            with torch.set_grad_enabled(phase == 'train'):\n",
        "                output1 = model(img1)\n",
        "                output2 = model(img2)\n",
        "\n",
        "                _, preds = torch.max(torch.cat((output1,output2), dim=1), 1)\n",
        "\n",
        "                loss =  criterion(output1,output2,labels.to(torch.float32).unsqueeze(dim=1))\n",
        "\n",
        "                # backward + optimize only if in training phase\n",
        "                if phase == 'train':\n",
        "                    loss.backward()\n",
        "                    optimizer.step()\n",
        "\n",
        "\n",
        "            # statistics\n",
        "            running_loss += loss.item() * img1.size(0)\n",
        "            running_corrects += torch.sum(preds == labels.data)\n",
        "\n",
        "            #del\n",
        "            del img1\n",
        "            del img2\n",
        "            del labels\n",
        "            del loss\n",
        "            del output1\n",
        "            del output2\n",
        "            torch.cuda.empty_cache()\n",
        "\n",
        "\n",
        "\n",
        "        epoch_loss = running_loss / dataset_sizes[phase]\n",
        "        epoch_acc = running_corrects.double().item() / dataset_sizes[phase]\n",
        "\n",
        "        print('{} Loss: {:.4f} Acc: {:.4f}'.format(\n",
        "            phase, epoch_loss, epoch_acc))\n",
        "\n",
        "        if phase == 'train':\n",
        "          train_accs.append(epoch_acc)\n",
        "\n",
        "        if phase == 'val':\n",
        "          val_accs_curriculum.append(epoch_acc)\n"
      ],
      "metadata": {
        "id": "P-kF2AGdIFyu"
      },
      "execution_count": null,
      "outputs": []
    },
    {
      "cell_type": "markdown",
      "source": [
        "**Q3** Why is the training accuracy lower than before? Compare the learning curves (validation accuracies) and the results on the test set. Discuss."
      ],
      "metadata": {
        "id": "HcWzYRyzM1wb"
      }
    },
    {
      "cell_type": "code",
      "source": [
        "plt.plot(val_accs_control)\n",
        "plt.plot(val_accs_curriculum)\n",
        "plt.legend(['control', 'curriculum'])\n",
        "plt.ylim(0.85, 0.97)"
      ],
      "metadata": {
        "id": "JFrTalP5Ll1h"
      },
      "execution_count": null,
      "outputs": []
    },
    {
      "cell_type": "code",
      "source": [
        "yhats_curriculum = []\n",
        "\n",
        "# browse the test set:\n",
        "for name in names_test:\n",
        "    # get true mean intensity on the disk\n",
        "    y = label_dict_test[name]['y']\n",
        "\n",
        "    path = join(dir_images_test, name)\n",
        "    image = torch.load(path)\n",
        "    image = image.cuda().unsqueeze(dim=0)\n",
        "\n",
        "    # get model output\n",
        "    yhat = model.eval()(image)\n",
        "    yhat = yhat.item()\n",
        "    yhats_curriculum.append(yhat)\n",
        "\n",
        "# make np array\n",
        "yhats_curriculum = np.array(yhats_curriculum)"
      ],
      "metadata": {
        "id": "skjbMTI3Xmge",
        "outputId": "d7701be7-8a1f-4a6a-8e1d-10979fc236f9",
        "colab": {
          "base_uri": "https://localhost:8080/"
        }
      },
      "execution_count": 58,
      "outputs": [
        {
          "output_type": "stream",
          "name": "stderr",
          "text": [
            "<ipython-input-58-f2b1c07dcff6>:9: FutureWarning: You are using `torch.load` with `weights_only=False` (the current default value), which uses the default pickle module implicitly. It is possible to construct malicious pickle data which will execute arbitrary code during unpickling (See https://github.com/pytorch/pytorch/blob/main/SECURITY.md#untrusted-models for more details). In a future release, the default value for `weights_only` will be flipped to `True`. This limits the functions that could be executed during unpickling. Arbitrary objects will no longer be allowed to be loaded via this mode unless they are explicitly allowlisted by the user via `torch.serialization.add_safe_globals`. We recommend you start setting `weights_only=True` for any use case where you don't have full control of the loaded file. Please open an issue on GitHub for any issues related to this experimental feature.\n",
            "  image = torch.load(path)\n"
          ]
        }
      ]
    },
    {
      "cell_type": "code",
      "source": [
        "# scatterplot\n",
        "plt.figure(num=10)\n",
        "plt.scatter(ys, yhats_control, marker='+', color='blue')\n",
        "plt.scatter(ys, yhats_curriculum, marker='+', color='orange')\n",
        "plt.xlabel('y')\n",
        "plt.ylabel('outputs')\n",
        "plt.legend(['control', 'curriculum'])\n"
      ],
      "metadata": {
        "id": "BJT9d3czPhKj"
      },
      "execution_count": null,
      "outputs": []
    },
    {
      "cell_type": "code",
      "source": [
        "spearman, ps = spearmanr(ys, yhats_control)\n",
        "kendall, pk = kendalltau(ys, yhats_control)\n",
        "\n",
        "print(spearman)\n",
        "print(kendall)"
      ],
      "metadata": {
        "id": "TjmruSnYZ4lP"
      },
      "execution_count": null,
      "outputs": []
    },
    {
      "cell_type": "code",
      "source": [
        "spearman, ps = spearmanr(ys, yhats_curriculum)\n",
        "kendall, pk = kendalltau(ys, yhats_curriculum)\n",
        "\n",
        "print(spearman)\n",
        "print(kendall)"
      ],
      "metadata": {
        "id": "aQfYYuGKZQ-N"
      },
      "execution_count": null,
      "outputs": []
    },
    {
      "cell_type": "markdown",
      "source": [
        "**Exercise 4** RankNet Loss"
      ],
      "metadata": {
        "id": "5Dafc8NUV7Gn"
      }
    },
    {
      "cell_type": "markdown",
      "source": [
        "A milder version of the Hinge Loss has been widely used, particularly in search engine learning, known as the RankNet Loss.\n",
        "\n",
        "This cost function is derived from a parametric probabilistic model, the [Bradley-Terry model](https://en.wikipedia.org/wiki/Bradley%E2%80%93Terry_model).\n",
        "\n",
        "In a general version, it is assumed that the outcome of a comparison (or match) between two objects \"0\" and \"1\" (or two teams) is random and depends on real values associated with the objects (the \"team levels\") as follows:\n",
        "\\begin{align}\n",
        "P_0 = \\dfrac{f(y_0)}{f(y_0) + f(y_1)}\n",
        "\\tag{1}\n",
        "\\end{align}\n",
        "Where $P_0$ is the probability of choosing object \"0\" (or the first team winning), and $f$ is a strictly increasing function with positive values."
      ],
      "metadata": {
        "id": "vrXFNbAtWqva"
      }
    },
    {
      "cell_type": "markdown",
      "source": [
        "**Q1** In the case where $f(y) = e^{\\sigma y}$, what do the choice probabilities depend on? Write the log-likelihood of the event \"object $x$ is chosen.\""
      ],
      "metadata": {
        "id": "HnGSr-f0ZYUe"
      }
    },
    {
      "cell_type": "markdown",
      "source": [
        "Dans le cas où $f(y) = e^{\\sigma y}$, les probabilités de choix dépendent uniquement de la différence $y_1 - y_0$. Lorsque des matchs sont joués, la valeur la plus vraisemblable de $y$ est interprétée comme le \"niveau\" d'un joueur (voir [classement Elo](https://fr.wikipedia.org/wiki/Classement_Elo))."
      ],
      "metadata": {
        "id": "mM5vHrlTB-Di"
      }
    },
    {
      "cell_type": "markdown",
      "source": [
        "**Q2** Derive an appropriate cost function for our ranking problem based on the given log-likelihood."
      ],
      "metadata": {
        "id": "06sul9qLaLnt"
      }
    },
    {
      "cell_type": "markdown",
      "source": [
        "Under this model, the log-likelihood of the choice $c$ between two objects 0 and 1 is given by:\n",
        "$$ \\delta_{c=0} \\; \\ln \\left[ \\frac{e^{\\sigma y_0}}{e^{\\sigma y_0} + e^{\\sigma y_1}} \\right] + \\delta_{c=1} \\; \\ln \\left[ \\frac{e^{\\sigma y_1}}{e^{\\sigma y_0} + e^{\\sigma y_1}} \\right] $$\n",
        "\n",
        "To constrain the network to order objects based on whether they are chosen or not by the annotator on a given criterion, one can seek to maximize the log-likelihood, which is equivalent to minimizing the following cost function (equality left as an exercise):\n",
        "\n",
        "$$ \\mathcal{L}(y_0, y_1, c \\; ; \\sigma) = - \\delta_{c=1} \\; \\sigma \\; (y_1 - y_0) \\; + \\; \\ln(1 + e^{\\sigma (y_1 - y_0)})  $$"
      ],
      "metadata": {
        "id": "QRCHYKYhDvfe"
      }
    },
    {
      "cell_type": "markdown",
      "source": [
        "**Q3** Implement and compare over twenty epochs with a VGG11."
      ],
      "metadata": {
        "id": "UMHptL6PbLN3"
      }
    },
    {
      "cell_type": "code",
      "execution_count": 62,
      "metadata": {
        "id": "v2cqC1psMxmj"
      },
      "outputs": [],
      "source": [
        "class RankNetLoss(torch.nn.Module):\n",
        "    def __init__(self, sigma=1):\n",
        "        super(RankNetLoss, self).__init__()\n",
        "        self.sigma = sigma\n",
        "\n",
        "    def forward(self, y0, y1, labels):\n",
        "        diffs = self.sigma * (y1 - y0)\n",
        "\n",
        "        # Attention to the exponential function\n",
        "        diffs = diffs.clamp(min=-5, max=5)\n",
        "\n",
        "        losses = -1. * (labels == 1) * diffs + torch.log(1 + torch.exp(diffs))\n",
        "\n",
        "        loss = losses.mean()\n",
        "        return loss"
      ]
    },
    {
      "cell_type": "code",
      "source": [
        "from torchvision import models\n",
        "vgg11 = models.vgg11(pretrained=False)"
      ],
      "metadata": {
        "id": "7AlvhBCLKvLT"
      },
      "execution_count": null,
      "outputs": []
    },
    {
      "cell_type": "code",
      "source": [
        "vgg11.features[0] = nn.Conv2d(channels, 64, kernel_size=3, stride=1, padding=1)\n",
        "vgg11.classifier[6] = nn.Linear(in_features=4096, out_features=1, bias=True)\n",
        "model = vgg11.to(device)\n",
        "\n",
        "criterion = RankNetLoss(1.0)\n",
        "optimizer = optim.Adam(model.parameters(), lr=0.001)\n"
      ],
      "metadata": {
        "id": "yjI6LlqJLOja"
      },
      "execution_count": 84,
      "outputs": []
    },
    {
      "cell_type": "code",
      "execution_count": null,
      "metadata": {
        "id": "5ZWfQ_IebGWh"
      },
      "outputs": [],
      "source": [
        "best_model_wts = copy.deepcopy(model.state_dict())\n",
        "best_acc = 0.0\n",
        "train_accs_rn = []\n",
        "val_accs_rn = []\n",
        "\n",
        "phases = ['train', 'val']\n",
        "\n",
        "for epoch in range(num_epochs):\n",
        "    print(f'Epoch {epoch+1}/{num_epochs}')\n",
        "    print('-' * 10)\n",
        "\n",
        "    # Each epoch has a training and validation phase\n",
        "    for phase in phases:\n",
        "        if phase == 'train':\n",
        "            model.train()  # Set model to training mode\n",
        "        else:\n",
        "            model.eval()   # Set model to evaluate mode\n",
        "\n",
        "        running_loss = 0.0\n",
        "        running_corrects = 0\n",
        "        data_loader = notebook.tqdm(dataloaders[phase], desc=f'{phase.capitalize()} Epoch {epoch}', leave=phase == 'train')\n",
        "        # Iterate over data.\n",
        "        for img1, img2, labels, _, _ in data_loader:\n",
        "            img1 = 0.1 * img1.to(device)\n",
        "            img2 = 0.1 * img2.to(device)\n",
        "            labels = labels.to(device).detach()\n",
        "\n",
        "            # zero the parameter gradients\n",
        "            optimizer.zero_grad()\n",
        "\n",
        "            # forward\n",
        "            # track history if only in train\n",
        "            with torch.set_grad_enabled(phase == 'train'):\n",
        "                output1 = model(img1)\n",
        "                output2 = model(img2)\n",
        "                _, preds = torch.max(torch.cat((output1, output2), dim=1), 1)\n",
        "                loss = criterion(output1, output2, labels.to(torch.float32).unsqueeze(dim=1))\n",
        "\n",
        "                # backward + optimize only if in training phase\n",
        "                if phase == 'train':\n",
        "                    loss.backward()\n",
        "                    optimizer.step()\n",
        "\n",
        "            # statistics\n",
        "            running_loss += loss.item() * img1.size(0)\n",
        "            running_corrects += torch.sum(preds == labels.data)\n",
        "\n",
        "            data_loader.set_postfix(loss=f'{loss.item():.4f}', refresh=False)\n",
        "\n",
        "        epoch_loss = running_loss / dataset_sizes[phase]\n",
        "        epoch_acc = running_corrects.double() / dataset_sizes[phase]\n",
        "\n",
        "        print(f'{phase} Loss: {epoch_loss:.4f} Acc: {epoch_acc:.4f}')\n",
        "\n",
        "        if phase == 'train':\n",
        "            train_accs_rn.append(epoch_acc)\n",
        "\n",
        "        if phase == 'val':\n",
        "            val_accs_rn.append(epoch_acc)\n",
        "\n",
        "        # deep copy the model\n",
        "        if phase == 'val' and epoch_acc > best_acc:\n",
        "            best_acc = epoch_acc\n",
        "            best_model_wts = copy.deepcopy(model.state_dict())"
      ]
    },
    {
      "cell_type": "code",
      "source": [
        "plt.plot([v.cpu().numpy() for v in val_accs], color='blue', label='Model 1')\n",
        "plt.plot([v.cpu().numpy() for v in val_accs_rn], color='red', label='Model 2')\n",
        "plt.legend()"
      ],
      "metadata": {
        "colab": {
          "base_uri": "https://localhost:8080/",
          "height": 467
        },
        "id": "A1h7KdtLwLoy",
        "outputId": "9114049e-fc05-4e52-933b-70617e097455"
      },
      "execution_count": null,
      "outputs": [
        {
          "output_type": "execute_result",
          "data": {
            "text/plain": [
              "<matplotlib.legend.Legend at 0x7f18bc3f8370>"
            ]
          },
          "metadata": {},
          "execution_count": 52
        },
        {
          "output_type": "display_data",
          "data": {
            "text/plain": [
              "<Figure size 640x480 with 1 Axes>"
            ],
            "image/png": "[encoded data removed]"
          },
          "metadata": {}
        }
      ]
    },
    {
      "cell_type": "code",
      "source": [
        "ys = []\n",
        "yhats = []\n",
        "\n",
        "for name in names_test:\n",
        "    y = label_dict_test[name]['y']\n",
        "    ys.append(y)\n",
        "\n",
        "    path = join(dir_images_test, name)\n",
        "    image = 0.1 * torch.load(path).cuda().unsqueeze(dim=0)\n",
        "    yhat = model.eval()(image).item()\n",
        "    yhats.append(yhat)\n",
        "\n",
        "ys = np.array(ys)\n",
        "yhats = np.array(yhats)\n",
        "\n",
        "# Plot\n",
        "plt.figure(num=10)\n",
        "plt.scatter(ys, yhats)\n",
        "plt.xlabel('y')\n",
        "plt.ylabel('$\\hat{y}$')\n",
        "\n",
        "# Compute correlation ranks\n",
        "from scipy.stats import spearmanr, kendalltau\n",
        "\n",
        "spearman, ps = spearmanr(ys, yhats)\n",
        "kendall, pk = kendalltau(ys, yhats)\n",
        "\n",
        "print(spearman)\n",
        "print(kendall)"
      ],
      "metadata": {
        "id": "8DAvqKr_rgzt"
      },
      "execution_count": null,
      "outputs": []
    },
    {
      "cell_type": "markdown",
      "source": [
        "**Conclusion**:\n",
        "\n",
        "In a simple task, the results are roughly equivalent, but the network's progression appears to be more consistent with the RankNet Loss. However, this observation is not always applicable, and it is recommended to experiment with both loss functions to determine their effectiveness for a given task."
      ],
      "metadata": {
        "id": "_hU59QhqL7u1"
      }
    }
  ],
  "metadata": {
    "accelerator": "GPU",
    "colab": {
      "provenance": [],
      "gpuType": "T4"
    },
    "kernelspec": {
      "display_name": "Python 3",
      "name": "python3"
    }
  },
  "nbformat": 4,
  "nbformat_minor": 0
}